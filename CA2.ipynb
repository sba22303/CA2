{
 "cells": [
  {
   "cell_type": "markdown",
   "id": "4a50d5ff",
   "metadata": {},
   "source": [
    "## CA2 ##\n",
    "## IRELAND LIVE STOCK AND MEAT COMPARED TO OTHER EU COUNTRIES\n",
    "\n",
    "1. Step 1 : Exploratory Data Analysis\n",
    "2. Step 2 : Statistics\n",
    "3. Step 3 : ML Model around our data\n",
    "4. Step 4 : Optimization with Python"
   ]
  },
  {
   "cell_type": "code",
   "execution_count": 1,
   "id": "ed196244",
   "metadata": {},
   "outputs": [],
   "source": [
    "#import of library for exploration of data\n",
    "import pandas as pd\n",
    "import numpy as np\n",
    "import seaborn as sns\n",
    "import math\n",
    "import matplotlib.pyplot as plt\n",
    "\n",
    "# We can suppress the warnings for a better reading\n",
    "import warnings\n",
    "warnings.filterwarnings('ignore')\n",
    "\n"
   ]
  },
  {
   "cell_type": "markdown",
   "id": "26fa656c",
   "metadata": {},
   "source": [
    "# 1. Exploratory Data Analysis"
   ]
  },
  {
   "cell_type": "code",
   "execution_count": 2,
   "id": "deebb58a",
   "metadata": {},
   "outputs": [
    {
     "data": {
      "text/html": [
       "<div>\n",
       "<style scoped>\n",
       "    .dataframe tbody tr th:only-of-type {\n",
       "        vertical-align: middle;\n",
       "    }\n",
       "\n",
       "    .dataframe tbody tr th {\n",
       "        vertical-align: top;\n",
       "    }\n",
       "\n",
       "    .dataframe thead th {\n",
       "        text-align: right;\n",
       "    }\n",
       "</style>\n",
       "<table border=\"1\" class=\"dataframe\">\n",
       "  <thead>\n",
       "    <tr style=\"text-align: right;\">\n",
       "      <th></th>\n",
       "      <th>Domain Code</th>\n",
       "      <th>Domain</th>\n",
       "      <th>Area Code (M49)</th>\n",
       "      <th>Area</th>\n",
       "      <th>Element Code</th>\n",
       "      <th>Element</th>\n",
       "      <th>Item Code (CPC)</th>\n",
       "      <th>Item</th>\n",
       "      <th>Year Code</th>\n",
       "      <th>Year</th>\n",
       "      <th>Unit</th>\n",
       "      <th>Value</th>\n",
       "      <th>Flag</th>\n",
       "      <th>Flag Description</th>\n",
       "    </tr>\n",
       "  </thead>\n",
       "  <tbody>\n",
       "    <tr>\n",
       "      <th>0</th>\n",
       "      <td>QV</td>\n",
       "      <td>Value of Agricultural Production</td>\n",
       "      <td>372</td>\n",
       "      <td>Ireland</td>\n",
       "      <td>152</td>\n",
       "      <td>Gross Production Value (constant 2014-2016 tho...</td>\n",
       "      <td>01341</td>\n",
       "      <td>Apples</td>\n",
       "      <td>2016</td>\n",
       "      <td>2016</td>\n",
       "      <td>1000 Int. $</td>\n",
       "      <td>10290</td>\n",
       "      <td>E</td>\n",
       "      <td>Estimated value</td>\n",
       "    </tr>\n",
       "    <tr>\n",
       "      <th>1</th>\n",
       "      <td>QV</td>\n",
       "      <td>Value of Agricultural Production</td>\n",
       "      <td>372</td>\n",
       "      <td>Ireland</td>\n",
       "      <td>152</td>\n",
       "      <td>Gross Production Value (constant 2014-2016 tho...</td>\n",
       "      <td>01341</td>\n",
       "      <td>Apples</td>\n",
       "      <td>2017</td>\n",
       "      <td>2017</td>\n",
       "      <td>1000 Int. $</td>\n",
       "      <td>10086</td>\n",
       "      <td>E</td>\n",
       "      <td>Estimated value</td>\n",
       "    </tr>\n",
       "    <tr>\n",
       "      <th>2</th>\n",
       "      <td>QV</td>\n",
       "      <td>Value of Agricultural Production</td>\n",
       "      <td>372</td>\n",
       "      <td>Ireland</td>\n",
       "      <td>152</td>\n",
       "      <td>Gross Production Value (constant 2014-2016 tho...</td>\n",
       "      <td>01341</td>\n",
       "      <td>Apples</td>\n",
       "      <td>2018</td>\n",
       "      <td>2018</td>\n",
       "      <td>1000 Int. $</td>\n",
       "      <td>9506</td>\n",
       "      <td>E</td>\n",
       "      <td>Estimated value</td>\n",
       "    </tr>\n",
       "    <tr>\n",
       "      <th>3</th>\n",
       "      <td>QV</td>\n",
       "      <td>Value of Agricultural Production</td>\n",
       "      <td>372</td>\n",
       "      <td>Ireland</td>\n",
       "      <td>152</td>\n",
       "      <td>Gross Production Value (constant 2014-2016 tho...</td>\n",
       "      <td>01341</td>\n",
       "      <td>Apples</td>\n",
       "      <td>2019</td>\n",
       "      <td>2019</td>\n",
       "      <td>1000 Int. $</td>\n",
       "      <td>9383</td>\n",
       "      <td>E</td>\n",
       "      <td>Estimated value</td>\n",
       "    </tr>\n",
       "    <tr>\n",
       "      <th>4</th>\n",
       "      <td>QV</td>\n",
       "      <td>Value of Agricultural Production</td>\n",
       "      <td>372</td>\n",
       "      <td>Ireland</td>\n",
       "      <td>152</td>\n",
       "      <td>Gross Production Value (constant 2014-2016 tho...</td>\n",
       "      <td>01341</td>\n",
       "      <td>Apples</td>\n",
       "      <td>2020</td>\n",
       "      <td>2020</td>\n",
       "      <td>1000 Int. $</td>\n",
       "      <td>9190</td>\n",
       "      <td>E</td>\n",
       "      <td>Estimated value</td>\n",
       "    </tr>\n",
       "  </tbody>\n",
       "</table>\n",
       "</div>"
      ],
      "text/plain": [
       "  Domain Code                            Domain  Area Code (M49)     Area  \\\n",
       "0          QV  Value of Agricultural Production              372  Ireland   \n",
       "1          QV  Value of Agricultural Production              372  Ireland   \n",
       "2          QV  Value of Agricultural Production              372  Ireland   \n",
       "3          QV  Value of Agricultural Production              372  Ireland   \n",
       "4          QV  Value of Agricultural Production              372  Ireland   \n",
       "\n",
       "   Element Code                                            Element  \\\n",
       "0           152  Gross Production Value (constant 2014-2016 tho...   \n",
       "1           152  Gross Production Value (constant 2014-2016 tho...   \n",
       "2           152  Gross Production Value (constant 2014-2016 tho...   \n",
       "3           152  Gross Production Value (constant 2014-2016 tho...   \n",
       "4           152  Gross Production Value (constant 2014-2016 tho...   \n",
       "\n",
       "  Item Code (CPC)    Item  Year Code  Year         Unit  Value Flag  \\\n",
       "0           01341  Apples       2016  2016  1000 Int. $  10290    E   \n",
       "1           01341  Apples       2017  2017  1000 Int. $  10086    E   \n",
       "2           01341  Apples       2018  2018  1000 Int. $   9506    E   \n",
       "3           01341  Apples       2019  2019  1000 Int. $   9383    E   \n",
       "4           01341  Apples       2020  2020  1000 Int. $   9190    E   \n",
       "\n",
       "  Flag Description  \n",
       "0  Estimated value  \n",
       "1  Estimated value  \n",
       "2  Estimated value  \n",
       "3  Estimated value  \n",
       "4  Estimated value  "
      ]
     },
     "execution_count": 2,
     "metadata": {},
     "output_type": "execute_result"
    }
   ],
   "source": [
    "#Source data generated from the link below\n",
    "#https://www.fao.org/faostat/en/#data/QV\n",
    "\n",
    "# Applied filter\n",
    "# Country = Ireland, Year Only last 5 years including 2016,2017,2018,2019,2020 (2021,2022 data are not available yet)\n",
    "\n",
    "#Read files from Eurostat\n",
    "ir_production_value = \"faostat/ireland_agriculture_production_value.csv\"\n",
    "ir_prod_value_df = pd.read_csv(ir_production_value)\n",
    "\n",
    "#Quick Overview of the data\n",
    "ir_prod_value_df.head()"
   ]
  },
  {
   "cell_type": "code",
   "execution_count": 3,
   "id": "aca511d9",
   "metadata": {},
   "outputs": [
    {
     "name": "stdout",
     "output_type": "stream",
     "text": [
      "<class 'pandas.core.frame.DataFrame'>\n",
      "RangeIndex: 608 entries, 0 to 607\n",
      "Data columns (total 14 columns):\n",
      " #   Column            Non-Null Count  Dtype \n",
      "---  ------            --------------  ----- \n",
      " 0   Domain Code       608 non-null    object\n",
      " 1   Domain            608 non-null    object\n",
      " 2   Area Code (M49)   608 non-null    int64 \n",
      " 3   Area              608 non-null    object\n",
      " 4   Element Code      608 non-null    int64 \n",
      " 5   Element           608 non-null    object\n",
      " 6   Item Code (CPC)   608 non-null    object\n",
      " 7   Item              608 non-null    object\n",
      " 8   Year Code         608 non-null    int64 \n",
      " 9   Year              608 non-null    int64 \n",
      " 10  Unit              608 non-null    object\n",
      " 11  Value             608 non-null    int64 \n",
      " 12  Flag              608 non-null    object\n",
      " 13  Flag Description  608 non-null    object\n",
      "dtypes: int64(5), object(9)\n",
      "memory usage: 66.6+ KB\n"
     ]
    }
   ],
   "source": [
    "ir_prod_value_df.info()"
   ]
  },
  {
   "cell_type": "code",
   "execution_count": 4,
   "id": "02569977",
   "metadata": {},
   "outputs": [
    {
     "data": {
      "text/plain": [
       "(608, 14)"
      ]
     },
     "execution_count": 4,
     "metadata": {},
     "output_type": "execute_result"
    }
   ],
   "source": [
    "#View rows and column count\n",
    "ir_prod_value_df.shape"
   ]
  },
  {
   "cell_type": "code",
   "execution_count": 5,
   "id": "5bdd0537",
   "metadata": {},
   "outputs": [
    {
     "data": {
      "text/plain": [
       "array(['Domain Code', 'Domain', 'Area Code (M49)', 'Area', 'Element Code',\n",
       "       'Element', 'Item Code (CPC)', 'Item', 'Year Code', 'Year', 'Unit',\n",
       "       'Value', 'Flag', 'Flag Description'], dtype=object)"
      ]
     },
     "execution_count": 5,
     "metadata": {},
     "output_type": "execute_result"
    }
   ],
   "source": [
    "# Check columns name if there is any irrelevant spelling\n",
    "ir_prod_value_df.columns.values"
   ]
  },
  {
   "cell_type": "code",
   "execution_count": 6,
   "id": "27523a60",
   "metadata": {},
   "outputs": [],
   "source": [
    "# Standardisation of column name -> Rename column name to keep a single uppercase to make easier our work with analysis. \n",
    "ir_prod_value_df.rename(columns = {\"Domain Code\" :\"Domain_code\", \n",
    "                                  \"Domain\": \"Domain\",\n",
    "                                  \"Area Code (M49)\":\"Area_code_m49\",\n",
    "                                  \"Area\":\"Area\",\n",
    "                                  \"Element Code\":\"Element_code\",\n",
    "                                  \"Element\": \"Element\",\n",
    "                                  \"Item Code (CPC)\":\"Item_code_cpc\",\n",
    "                                  \"Item\":\"Item\",\n",
    "                                  \"Year Code\":\"Year_code\",\n",
    "                                  \"Year\":\"Year\",\n",
    "                                    \"Unit\": \"Unit\",\n",
    "                                    \"Value\":\"Value\",\n",
    "                                    \"Flag\":\"Flag\",\n",
    "                                    \"Flag Description\" : \"Flag_description\"}, inplace = True)"
   ]
  },
  {
   "cell_type": "code",
   "execution_count": 7,
   "id": "301e32e5",
   "metadata": {},
   "outputs": [
    {
     "data": {
      "text/plain": [
       "Domain_code           1\n",
       "Domain                1\n",
       "Area_code_m49         1\n",
       "Area                  1\n",
       "Element_code          5\n",
       "Element               5\n",
       "Item_code_cpc        50\n",
       "Item                 50\n",
       "Year_code             5\n",
       "Year                  5\n",
       "Unit                  3\n",
       "Value               542\n",
       "Flag                  1\n",
       "Flag_description      1\n",
       "dtype: int64"
      ]
     },
     "execution_count": 7,
     "metadata": {},
     "output_type": "execute_result"
    }
   ],
   "source": [
    "# Let's view Unique Value in axes 0 -> In each Column\n",
    "ir_prod_value_df.nunique(axis = 0)"
   ]
  },
  {
   "cell_type": "code",
   "execution_count": 8,
   "id": "627afdb8",
   "metadata": {},
   "outputs": [
    {
     "name": "stdout",
     "output_type": "stream",
     "text": [
      "##### Domain_code: #####\n",
      "['QV']\n",
      "\n",
      "##### Domain : #####\n",
      "['Value of Agricultural Production']\n",
      "\n",
      "##### Area_code_m49 : #####\n",
      "[372]\n",
      "##### Area: #####\n",
      "['Ireland']\n",
      "\n",
      "##### Flag : #####\n",
      "['E']\n",
      "\n",
      "##### Flag_descritpion : #####\n",
      "['Estimated value']\n"
     ]
    }
   ],
   "source": [
    "#Removing column having a single value as these one wont help us to much for our analysis\n",
    "#These columns are : Domain_code, Domain, Area_code_m49, Area, Flag, Flag_description\n",
    "#First lets see differenet values that they contain\n",
    "\n",
    "print(\"##### Domain_code: #####\")\n",
    "print(pd.unique(ir_prod_value_df['Domain_code']))\n",
    "print(\"\\n##### Domain : #####\")\n",
    "print(pd.unique(ir_prod_value_df['Domain']))\n",
    "print(\"\\n##### Area_code_m49 : #####\")\n",
    "print(pd.unique(ir_prod_value_df['Area_code_m49']))\n",
    "\n",
    "print(\"##### Area: #####\")\n",
    "print(pd.unique(ir_prod_value_df['Area']))\n",
    "print(\"\\n##### Flag : #####\")\n",
    "print(pd.unique(ir_prod_value_df['Flag']))\n",
    "print(\"\\n##### Flag_descritpion : #####\")\n",
    "print(pd.unique(ir_prod_value_df['Flag_description']))\n"
   ]
  },
  {
   "cell_type": "code",
   "execution_count": 9,
   "id": "6768821a",
   "metadata": {},
   "outputs": [],
   "source": [
    "#Removal of columns\n",
    "ir_prod_value_df = ir_prod_value_df.drop(['Domain_code','Domain','Area_code_m49','Area','Flag','Flag_description'], axis=1)"
   ]
  },
  {
   "cell_type": "code",
   "execution_count": 10,
   "id": "a0b18507",
   "metadata": {},
   "outputs": [
    {
     "name": "stdout",
     "output_type": "stream",
     "text": [
      "\n",
      "##### Element : #####\n",
      "['Gross Production Value (constant 2014-2016 thousand I$)'\n",
      " 'Gross Production Value (current thousand SLC)'\n",
      " 'Gross Production Value (constant 2014-2016 thousand SLC)'\n",
      " 'Gross Production Value (current thousand US$)'\n",
      " 'Gross Production Value (constant 2014-2016 thousand US$)']\n",
      "\n",
      "##### Element_code : #####\n",
      "[152  56  55  57  58]\n",
      "\n",
      "##### Unit : #####\n",
      "['1000 Int. $' '1000 SLC' '1000 US$']\n"
     ]
    }
   ],
   "source": [
    "#Check also the value in Element and Element_code\n",
    "print(\"\\n##### Element : #####\")\n",
    "print(pd.unique(ir_prod_value_df['Element']))\n",
    "print(\"\\n##### Element_code : #####\")\n",
    "print(pd.unique(ir_prod_value_df['Element_code']))\n",
    "print(\"\\n##### Unit : #####\")\n",
    "print(pd.unique(ir_prod_value_df['Unit']))\n",
    "\n",
    "\n",
    "# Definitions and standards used in FAOSTAT \n",
    "# I$ = international dollar\n",
    "# SLC = standard local currency\n"
   ]
  },
  {
   "cell_type": "code",
   "execution_count": 11,
   "id": "a9eddd3d",
   "metadata": {},
   "outputs": [
    {
     "data": {
      "text/html": [
       "<div>\n",
       "<style scoped>\n",
       "    .dataframe tbody tr th:only-of-type {\n",
       "        vertical-align: middle;\n",
       "    }\n",
       "\n",
       "    .dataframe tbody tr th {\n",
       "        vertical-align: top;\n",
       "    }\n",
       "\n",
       "    .dataframe thead th {\n",
       "        text-align: right;\n",
       "    }\n",
       "</style>\n",
       "<table border=\"1\" class=\"dataframe\">\n",
       "  <thead>\n",
       "    <tr style=\"text-align: right;\">\n",
       "      <th></th>\n",
       "      <th>Item_code_cpc</th>\n",
       "      <th>Item</th>\n",
       "      <th>Year</th>\n",
       "      <th>Unit</th>\n",
       "      <th>Value</th>\n",
       "    </tr>\n",
       "  </thead>\n",
       "  <tbody>\n",
       "    <tr>\n",
       "      <th>0</th>\n",
       "      <td>01341</td>\n",
       "      <td>Apples</td>\n",
       "      <td>2016</td>\n",
       "      <td>1000 Int. $</td>\n",
       "      <td>10290</td>\n",
       "    </tr>\n",
       "    <tr>\n",
       "      <th>1</th>\n",
       "      <td>01341</td>\n",
       "      <td>Apples</td>\n",
       "      <td>2017</td>\n",
       "      <td>1000 Int. $</td>\n",
       "      <td>10086</td>\n",
       "    </tr>\n",
       "    <tr>\n",
       "      <th>2</th>\n",
       "      <td>01341</td>\n",
       "      <td>Apples</td>\n",
       "      <td>2018</td>\n",
       "      <td>1000 Int. $</td>\n",
       "      <td>9506</td>\n",
       "    </tr>\n",
       "    <tr>\n",
       "      <th>3</th>\n",
       "      <td>01341</td>\n",
       "      <td>Apples</td>\n",
       "      <td>2019</td>\n",
       "      <td>1000 Int. $</td>\n",
       "      <td>9383</td>\n",
       "    </tr>\n",
       "    <tr>\n",
       "      <th>4</th>\n",
       "      <td>01341</td>\n",
       "      <td>Apples</td>\n",
       "      <td>2020</td>\n",
       "      <td>1000 Int. $</td>\n",
       "      <td>9190</td>\n",
       "    </tr>\n",
       "  </tbody>\n",
       "</table>\n",
       "</div>"
      ],
      "text/plain": [
       "  Item_code_cpc    Item  Year         Unit  Value\n",
       "0         01341  Apples  2016  1000 Int. $  10290\n",
       "1         01341  Apples  2017  1000 Int. $  10086\n",
       "2         01341  Apples  2018  1000 Int. $   9506\n",
       "3         01341  Apples  2019  1000 Int. $   9383\n",
       "4         01341  Apples  2020  1000 Int. $   9190"
      ]
     },
     "execution_count": 11,
     "metadata": {},
     "output_type": "execute_result"
    }
   ],
   "source": [
    "## For simplification purpose we consider that the Unit is the US dollar, and SLC for Ireland is 1 Euro = 1 Dollar.\n",
    "## Lets Remove unnecessary Column: Element, Element_code, Year_code\n",
    "ir_prod_value_df = ir_prod_value_df.drop(['Element','Element_code','Year_code'], axis=1)\n",
    "ir_prod_value_df.head()"
   ]
  },
  {
   "cell_type": "code",
   "execution_count": 12,
   "id": "8e7c288b",
   "metadata": {},
   "outputs": [
    {
     "name": "stdout",
     "output_type": "stream",
     "text": [
      "\n",
      "##### Item : #####\n",
      "['Apples' 'Barley' 'Broad beans and horse beans, dry'\n",
      " 'Broad beans and horse beans, green' 'Cabbages' 'Carrots and turnips'\n",
      " 'Cauliflowers and broccoli' 'Cereals n.e.c.'\n",
      " 'Chillies and peppers, green (Capsicum spp. and Pimenta spp.)'\n",
      " 'Cucumbers and gherkins' 'Currants' 'Hen eggs in shell, fresh'\n",
      " 'Hop cones' 'Horse meat, fresh or chilled (indigenous)'\n",
      " 'Leeks and other alliaceous vegetables' 'Lettuce and chicory'\n",
      " 'Meat of cattle with the bone, fresh or chilled'\n",
      " 'Meat of cattle with the bone, fresh or chilled (indigenous)'\n",
      " 'Meat of chickens, fresh or chilled'\n",
      " 'Meat of chickens, fresh or chilled (indigenous)'\n",
      " 'Meat of ducks, fresh or chilled (indigenous)'\n",
      " 'Meat of geese, fresh or chilled (indigenous)'\n",
      " 'Meat of pig with the bone, fresh or chilled'\n",
      " 'Meat of pig with the bone, fresh or chilled (indigenous)'\n",
      " 'Meat of sheep, fresh or chilled'\n",
      " 'Meat of sheep, fresh or chilled (indigenous)'\n",
      " 'Meat of turkeys, fresh or chilled (indigenous)' 'Mushrooms and truffles'\n",
      " 'Natural honey' 'Oats' 'Onions and shallots, dry (excluding dehydrated)'\n",
      " 'Other beans, green'\n",
      " 'Other berries and fruits of the genus vaccinium n.e.c.'\n",
      " 'Other fruits, n.e.c.'\n",
      " 'Other meat n.e.c. (excluding mammals), fresh, chilled or frozen'\n",
      " 'Other vegetables, fresh n.e.c.' 'Peas, dry' 'Peas, green' 'Potatoes'\n",
      " 'Pumpkins, squash and gourds' 'Rape or colza seed' 'Raspberries'\n",
      " 'Raw milk of cattle' 'Rye'\n",
      " 'Shorn wool, greasy, including fleece-washed shorn wool' 'Spinach'\n",
      " 'Strawberries' 'Sugar beet' 'Tomatoes' 'Wheat']\n"
     ]
    }
   ],
   "source": [
    "## Check values in Item\n",
    "print(\"\\n##### Item : #####\")\n",
    "print(pd.unique(ir_prod_value_df['Item']))"
   ]
  },
  {
   "cell_type": "code",
   "execution_count": 13,
   "id": "deb1baa0",
   "metadata": {},
   "outputs": [
    {
     "name": "stdout",
     "output_type": "stream",
     "text": [
      "Item_code_cpc    0\n",
      "Item             0\n",
      "Year             0\n",
      "Unit             0\n",
      "Value            0\n",
      "dtype: int64\n"
     ]
    }
   ],
   "source": [
    "#Check if we need to remove rows with nan values \n",
    "print(ir_prod_value_df.isnull().sum())"
   ]
  },
  {
   "cell_type": "code",
   "execution_count": 14,
   "id": "a577156c",
   "metadata": {},
   "outputs": [
    {
     "data": {
      "text/plain": [
       "Item_code_cpc    608\n",
       "Item             608\n",
       "Year             608\n",
       "Unit             608\n",
       "Value            608\n",
       "dtype: int64"
      ]
     },
     "execution_count": 14,
     "metadata": {},
     "output_type": "execute_result"
    }
   ],
   "source": [
    "#Last Check to view if we are ready to plot all these and start our analysis\n",
    "ir_prod_value_df.count()"
   ]
  },
  {
   "cell_type": "code",
   "execution_count": null,
   "id": "b2e3cde2",
   "metadata": {},
   "outputs": [],
   "source": []
  },
  {
   "cell_type": "code",
   "execution_count": 15,
   "id": "b9842096",
   "metadata": {},
   "outputs": [
    {
     "data": {
      "text/html": [
       "\n",
       "<div id=\"altair-viz-3e0454df26794bf495b3aa84d0a6eeb8\"></div>\n",
       "<script type=\"text/javascript\">\n",
       "  var VEGA_DEBUG = (typeof VEGA_DEBUG == \"undefined\") ? {} : VEGA_DEBUG;\n",
       "  (function(spec, embedOpt){\n",
       "    let outputDiv = document.currentScript.previousElementSibling;\n",
       "    if (outputDiv.id !== \"altair-viz-3e0454df26794bf495b3aa84d0a6eeb8\") {\n",
       "      outputDiv = document.getElementById(\"altair-viz-3e0454df26794bf495b3aa84d0a6eeb8\");\n",
       "    }\n",
       "    const paths = {\n",
       "      \"vega\": \"https://cdn.jsdelivr.net/npm//vega@5?noext\",\n",
       "      \"vega-lib\": \"https://cdn.jsdelivr.net/npm//vega-lib?noext\",\n",
       "      \"vega-lite\": \"https://cdn.jsdelivr.net/npm//vega-lite@4.17.0?noext\",\n",
       "      \"vega-embed\": \"https://cdn.jsdelivr.net/npm//vega-embed@6?noext\",\n",
       "    };\n",
       "\n",
       "    function maybeLoadScript(lib, version) {\n",
       "      var key = `${lib.replace(\"-\", \"\")}_version`;\n",
       "      return (VEGA_DEBUG[key] == version) ?\n",
       "        Promise.resolve(paths[lib]) :\n",
       "        new Promise(function(resolve, reject) {\n",
       "          var s = document.createElement('script');\n",
       "          document.getElementsByTagName(\"head\")[0].appendChild(s);\n",
       "          s.async = true;\n",
       "          s.onload = () => {\n",
       "            VEGA_DEBUG[key] = version;\n",
       "            return resolve(paths[lib]);\n",
       "          };\n",
       "          s.onerror = () => reject(`Error loading script: ${paths[lib]}`);\n",
       "          s.src = paths[lib];\n",
       "        });\n",
       "    }\n",
       "\n",
       "    function showError(err) {\n",
       "      outputDiv.innerHTML = `<div class=\"error\" style=\"color:red;\">${err}</div>`;\n",
       "      throw err;\n",
       "    }\n",
       "\n",
       "    function displayChart(vegaEmbed) {\n",
       "      vegaEmbed(outputDiv, spec, embedOpt)\n",
       "        .catch(err => showError(`Javascript Error: ${err.message}<br>This usually means there's a typo in your chart specification. See the javascript console for the full traceback.`));\n",
       "    }\n",
       "\n",
       "    if(typeof define === \"function\" && define.amd) {\n",
       "      requirejs.config({paths});\n",
       "      require([\"vega-embed\"], displayChart, err => showError(`Error loading script: ${err.message}`));\n",
       "    } else {\n",
       "      maybeLoadScript(\"vega\", \"5\")\n",
       "        .then(() => maybeLoadScript(\"vega-lite\", \"4.17.0\"))\n",
       "        .then(() => maybeLoadScript(\"vega-embed\", \"6\"))\n",
       "        .catch(showError)\n",
       "        .then(() => displayChart(vegaEmbed));\n",
       "    }\n",
       "  })({\"config\": {\"view\": {\"continuousWidth\": 400, \"continuousHeight\": 300}}, \"data\": {\"name\": \"data-5a3eb0d5c105404b69ed914097a1d1f4\"}, \"mark\": \"point\", \"encoding\": {\"x\": {\"field\": \"Item_code_cpc\", \"type\": \"nominal\"}, \"y\": {\"field\": \"Value\", \"type\": \"quantitative\"}}, \"$schema\": \"https://vega.github.io/schema/vega-lite/v4.17.0.json\", \"datasets\": {\"data-5a3eb0d5c105404b69ed914097a1d1f4\": [{\"Item_code_cpc\": \"01341\", \"Item\": \"Apples\", \"Year\": 2020, \"Unit\": \"1000 Int. $\", \"Value\": 9190}, {\"Item_code_cpc\": \"0115\", \"Item\": \"Barley\", \"Year\": 2020, \"Unit\": \"1000 Int. $\", \"Value\": 262520}, {\"Item_code_cpc\": \"0115\", \"Item\": \"Barley\", \"Year\": 2020, \"Unit\": \"1000 SLC\", \"Value\": 439851}, {\"Item_code_cpc\": \"0115\", \"Item\": \"Barley\", \"Year\": 2020, \"Unit\": \"1000 SLC\", \"Value\": 290299}, {\"Item_code_cpc\": \"0115\", \"Item\": \"Barley\", \"Year\": 2020, \"Unit\": \"1000 US$\", \"Value\": 502396}, {\"Item_code_cpc\": \"0115\", \"Item\": \"Barley\", \"Year\": 2020, \"Unit\": \"1000 US$\", \"Value\": 344555}, {\"Item_code_cpc\": \"01702\", \"Item\": \"Broad beans and horse beans, dry\", \"Year\": 2020, \"Unit\": \"1000 Int. $\", \"Value\": 19216}, {\"Item_code_cpc\": \"01212\", \"Item\": \"Cabbages\", \"Year\": 2020, \"Unit\": \"1000 Int. $\", \"Value\": 5730}, {\"Item_code_cpc\": \"01212\", \"Item\": \"Cabbages\", \"Year\": 2020, \"Unit\": \"1000 SLC\", \"Value\": 9863}, {\"Item_code_cpc\": \"01212\", \"Item\": \"Cabbages\", \"Year\": 2020, \"Unit\": \"1000 SLC\", \"Value\": 9443}, {\"Item_code_cpc\": \"01212\", \"Item\": \"Cabbages\", \"Year\": 2020, \"Unit\": \"1000 US$\", \"Value\": 11265}, {\"Item_code_cpc\": \"01212\", \"Item\": \"Cabbages\", \"Year\": 2020, \"Unit\": \"1000 US$\", \"Value\": 11148}, {\"Item_code_cpc\": \"01251\", \"Item\": \"Carrots and turnips\", \"Year\": 2020, \"Unit\": \"1000 Int. $\", \"Value\": 14167}, {\"Item_code_cpc\": \"01251\", \"Item\": \"Carrots and turnips\", \"Year\": 2020, \"Unit\": \"1000 SLC\", \"Value\": 24605}, {\"Item_code_cpc\": \"01251\", \"Item\": \"Carrots and turnips\", \"Year\": 2020, \"Unit\": \"1000 SLC\", \"Value\": 21358}, {\"Item_code_cpc\": \"01251\", \"Item\": \"Carrots and turnips\", \"Year\": 2020, \"Unit\": \"1000 US$\", \"Value\": 28104}, {\"Item_code_cpc\": \"01251\", \"Item\": \"Carrots and turnips\", \"Year\": 2020, \"Unit\": \"1000 US$\", \"Value\": 25156}, {\"Item_code_cpc\": \"01213\", \"Item\": \"Cauliflowers and broccoli\", \"Year\": 2020, \"Unit\": \"1000 Int. $\", \"Value\": 4942}, {\"Item_code_cpc\": \"01213\", \"Item\": \"Cauliflowers and broccoli\", \"Year\": 2020, \"Unit\": \"1000 SLC\", \"Value\": 7160}, {\"Item_code_cpc\": \"01213\", \"Item\": \"Cauliflowers and broccoli\", \"Year\": 2020, \"Unit\": \"1000 SLC\", \"Value\": 6318}, {\"Item_code_cpc\": \"01213\", \"Item\": \"Cauliflowers and broccoli\", \"Year\": 2020, \"Unit\": \"1000 US$\", \"Value\": 8179}, {\"Item_code_cpc\": \"01213\", \"Item\": \"Cauliflowers and broccoli\", \"Year\": 2020, \"Unit\": \"1000 US$\", \"Value\": 7459}, {\"Item_code_cpc\": \"01232\", \"Item\": \"Cucumbers and gherkins\", \"Year\": 2020, \"Unit\": \"1000 Int. $\", \"Value\": 692}, {\"Item_code_cpc\": \"01351.01\", \"Item\": \"Currants\", \"Year\": 2020, \"Unit\": \"1000 Int. $\", \"Value\": 154}, {\"Item_code_cpc\": \"0231\", \"Item\": \"Hen eggs in shell, fresh\", \"Year\": 2020, \"Unit\": \"1000 Int. $\", \"Value\": 67232}, {\"Item_code_cpc\": \"0231\", \"Item\": \"Hen eggs in shell, fresh\", \"Year\": 2020, \"Unit\": \"1000 SLC\", \"Value\": 92289}, {\"Item_code_cpc\": \"0231\", \"Item\": \"Hen eggs in shell, fresh\", \"Year\": 2020, \"Unit\": \"1000 SLC\", \"Value\": 86313}, {\"Item_code_cpc\": \"0231\", \"Item\": \"Hen eggs in shell, fresh\", \"Year\": 2020, \"Unit\": \"1000 US$\", \"Value\": 105413}, {\"Item_code_cpc\": \"0231\", \"Item\": \"Hen eggs in shell, fresh\", \"Year\": 2020, \"Unit\": \"1000 US$\", \"Value\": 101460}, {\"Item_code_cpc\": \"21118.01i\", \"Item\": \"Horse meat, fresh or chilled (indigenous)\", \"Year\": 2020, \"Unit\": \"1000 Int. $\", \"Value\": 10309}, {\"Item_code_cpc\": \"01254\", \"Item\": \"Leeks and other alliaceous vegetables\", \"Year\": 2020, \"Unit\": \"1000 Int. $\", \"Value\": 3200}, {\"Item_code_cpc\": \"01214\", \"Item\": \"Lettuce and chicory\", \"Year\": 2020, \"Unit\": \"1000 Int. $\", \"Value\": 2333}, {\"Item_code_cpc\": \"01214\", \"Item\": \"Lettuce and chicory\", \"Year\": 2020, \"Unit\": \"1000 SLC\", \"Value\": 4564}, {\"Item_code_cpc\": \"01214\", \"Item\": \"Lettuce and chicory\", \"Year\": 2020, \"Unit\": \"1000 SLC\", \"Value\": 4628}, {\"Item_code_cpc\": \"01214\", \"Item\": \"Lettuce and chicory\", \"Year\": 2020, \"Unit\": \"1000 US$\", \"Value\": 5212}, {\"Item_code_cpc\": \"01214\", \"Item\": \"Lettuce and chicory\", \"Year\": 2020, \"Unit\": \"1000 US$\", \"Value\": 5463}, {\"Item_code_cpc\": \"21111.01\", \"Item\": \"Meat of cattle with the bone, fresh or chilled\", \"Year\": 2020, \"Unit\": \"1000 SLC\", \"Value\": 2250037}, {\"Item_code_cpc\": \"21111.01\", \"Item\": \"Meat of cattle with the bone, fresh or chilled\", \"Year\": 2020, \"Unit\": \"1000 SLC\", \"Value\": 2591300}, {\"Item_code_cpc\": \"21111.01\", \"Item\": \"Meat of cattle with the bone, fresh or chilled\", \"Year\": 2020, \"Unit\": \"1000 US$\", \"Value\": 2569984}, {\"Item_code_cpc\": \"21111.01\", \"Item\": \"Meat of cattle with the bone, fresh or chilled\", \"Year\": 2020, \"Unit\": \"1000 US$\", \"Value\": 3047192}, {\"Item_code_cpc\": \"21111.01i\", \"Item\": \"Meat of cattle with the bone, fresh or chilled (indigenous)\", \"Year\": 2020, \"Unit\": \"1000 Int. $\", \"Value\": 2725828}, {\"Item_code_cpc\": \"21111.01i\", \"Item\": \"Meat of cattle with the bone, fresh or chilled (indigenous)\", \"Year\": 2020, \"Unit\": \"1000 SLC\", \"Value\": 2399026}, {\"Item_code_cpc\": \"21111.01i\", \"Item\": \"Meat of cattle with the bone, fresh or chilled (indigenous)\", \"Year\": 2020, \"Unit\": \"1000 SLC\", \"Value\": 2555241}, {\"Item_code_cpc\": \"21111.01i\", \"Item\": \"Meat of cattle with the bone, fresh or chilled (indigenous)\", \"Year\": 2020, \"Unit\": \"1000 US$\", \"Value\": 2740158}, {\"Item_code_cpc\": \"21111.01i\", \"Item\": \"Meat of cattle with the bone, fresh or chilled (indigenous)\", \"Year\": 2020, \"Unit\": \"1000 US$\", \"Value\": 3007341}, {\"Item_code_cpc\": \"21121\", \"Item\": \"Meat of chickens, fresh or chilled\", \"Year\": 2020, \"Unit\": \"1000 SLC\", \"Value\": 206948}, {\"Item_code_cpc\": \"21121\", \"Item\": \"Meat of chickens, fresh or chilled\", \"Year\": 2020, \"Unit\": \"1000 SLC\", \"Value\": 192047}, {\"Item_code_cpc\": \"21121\", \"Item\": \"Meat of chickens, fresh or chilled\", \"Year\": 2020, \"Unit\": \"1000 US$\", \"Value\": 236376}, {\"Item_code_cpc\": \"21121\", \"Item\": \"Meat of chickens, fresh or chilled\", \"Year\": 2020, \"Unit\": \"1000 US$\", \"Value\": 226926}, {\"Item_code_cpc\": \"21121i\", \"Item\": \"Meat of chickens, fresh or chilled (indigenous)\", \"Year\": 2020, \"Unit\": \"1000 Int. $\", \"Value\": 281846}, {\"Item_code_cpc\": \"21121i\", \"Item\": \"Meat of chickens, fresh or chilled (indigenous)\", \"Year\": 2020, \"Unit\": \"1000 SLC\", \"Value\": 199531}, {\"Item_code_cpc\": \"21121i\", \"Item\": \"Meat of chickens, fresh or chilled (indigenous)\", \"Year\": 2020, \"Unit\": \"1000 SLC\", \"Value\": 185163}, {\"Item_code_cpc\": \"21121i\", \"Item\": \"Meat of chickens, fresh or chilled (indigenous)\", \"Year\": 2020, \"Unit\": \"1000 US$\", \"Value\": 227904}, {\"Item_code_cpc\": \"21121i\", \"Item\": \"Meat of chickens, fresh or chilled (indigenous)\", \"Year\": 2020, \"Unit\": \"1000 US$\", \"Value\": 218792}, {\"Item_code_cpc\": \"21113.01\", \"Item\": \"Meat of pig with the bone, fresh or chilled\", \"Year\": 2020, \"Unit\": \"1000 SLC\", \"Value\": 880454}, {\"Item_code_cpc\": \"21113.01\", \"Item\": \"Meat of pig with the bone, fresh or chilled\", \"Year\": 2020, \"Unit\": \"1000 SLC\", \"Value\": 871319}, {\"Item_code_cpc\": \"21113.01\", \"Item\": \"Meat of pig with the bone, fresh or chilled\", \"Year\": 2020, \"Unit\": \"1000 US$\", \"Value\": 1005651}, {\"Item_code_cpc\": \"21113.01\", \"Item\": \"Meat of pig with the bone, fresh or chilled\", \"Year\": 2020, \"Unit\": \"1000 US$\", \"Value\": 1032042}, {\"Item_code_cpc\": \"21113.01i\", \"Item\": \"Meat of pig with the bone, fresh or chilled (indigenous)\", \"Year\": 2020, \"Unit\": \"1000 Int. $\", \"Value\": 635085}, {\"Item_code_cpc\": \"21113.01i\", \"Item\": \"Meat of pig with the bone, fresh or chilled (indigenous)\", \"Year\": 2020, \"Unit\": \"1000 SLC\", \"Value\": 880454}, {\"Item_code_cpc\": \"21113.01i\", \"Item\": \"Meat of pig with the bone, fresh or chilled (indigenous)\", \"Year\": 2020, \"Unit\": \"1000 SLC\", \"Value\": 871319}, {\"Item_code_cpc\": \"21113.01i\", \"Item\": \"Meat of pig with the bone, fresh or chilled (indigenous)\", \"Year\": 2020, \"Unit\": \"1000 US$\", \"Value\": 1005651}, {\"Item_code_cpc\": \"21113.01i\", \"Item\": \"Meat of pig with the bone, fresh or chilled (indigenous)\", \"Year\": 2020, \"Unit\": \"1000 US$\", \"Value\": 1032042}, {\"Item_code_cpc\": \"21115\", \"Item\": \"Meat of sheep, fresh or chilled\", \"Year\": 2020, \"Unit\": \"1000 SLC\", \"Value\": 334056}, {\"Item_code_cpc\": \"21115\", \"Item\": \"Meat of sheep, fresh or chilled\", \"Year\": 2020, \"Unit\": \"1000 SLC\", \"Value\": 274462}, {\"Item_code_cpc\": \"21115\", \"Item\": \"Meat of sheep, fresh or chilled\", \"Year\": 2020, \"Unit\": \"1000 US$\", \"Value\": 381557}, {\"Item_code_cpc\": \"21115\", \"Item\": \"Meat of sheep, fresh or chilled\", \"Year\": 2020, \"Unit\": \"1000 US$\", \"Value\": 323906}, {\"Item_code_cpc\": \"21115i\", \"Item\": \"Meat of sheep, fresh or chilled (indigenous)\", \"Year\": 2020, \"Unit\": \"1000 Int. $\", \"Value\": 274782}, {\"Item_code_cpc\": \"21115i\", \"Item\": \"Meat of sheep, fresh or chilled (indigenous)\", \"Year\": 2020, \"Unit\": \"1000 SLC\", \"Value\": 297074}, {\"Item_code_cpc\": \"21115i\", \"Item\": \"Meat of sheep, fresh or chilled (indigenous)\", \"Year\": 2020, \"Unit\": \"1000 SLC\", \"Value\": 244078}, {\"Item_code_cpc\": \"21115i\", \"Item\": \"Meat of sheep, fresh or chilled (indigenous)\", \"Year\": 2020, \"Unit\": \"1000 US$\", \"Value\": 339317}, {\"Item_code_cpc\": \"21115i\", \"Item\": \"Meat of sheep, fresh or chilled (indigenous)\", \"Year\": 2020, \"Unit\": \"1000 US$\", \"Value\": 288048}, {\"Item_code_cpc\": \"21124i\", \"Item\": \"Meat of turkeys, fresh or chilled (indigenous)\", \"Year\": 2020, \"Unit\": \"1000 Int. $\", \"Value\": 19897}, {\"Item_code_cpc\": \"01270\", \"Item\": \"Mushrooms and truffles\", \"Year\": 2020, \"Unit\": \"1000 Int. $\", \"Value\": 74944}, {\"Item_code_cpc\": \"01270\", \"Item\": \"Mushrooms and truffles\", \"Year\": 2020, \"Unit\": \"1000 SLC\", \"Value\": 121205}, {\"Item_code_cpc\": \"01270\", \"Item\": \"Mushrooms and truffles\", \"Year\": 2020, \"Unit\": \"1000 SLC\", \"Value\": 125591}, {\"Item_code_cpc\": \"01270\", \"Item\": \"Mushrooms and truffles\", \"Year\": 2020, \"Unit\": \"1000 US$\", \"Value\": 138440}, {\"Item_code_cpc\": \"01270\", \"Item\": \"Mushrooms and truffles\", \"Year\": 2020, \"Unit\": \"1000 US$\", \"Value\": 148161}, {\"Item_code_cpc\": \"0117\", \"Item\": \"Oats\", \"Year\": 2020, \"Unit\": \"1000 Int. $\", \"Value\": 30211}, {\"Item_code_cpc\": \"0117\", \"Item\": \"Oats\", \"Year\": 2020, \"Unit\": \"1000 SLC\", \"Value\": 26300}, {\"Item_code_cpc\": \"0117\", \"Item\": \"Oats\", \"Year\": 2020, \"Unit\": \"1000 SLC\", \"Value\": 26429}, {\"Item_code_cpc\": \"0117\", \"Item\": \"Oats\", \"Year\": 2020, \"Unit\": \"1000 US$\", \"Value\": 30040}, {\"Item_code_cpc\": \"0117\", \"Item\": \"Oats\", \"Year\": 2020, \"Unit\": \"1000 US$\", \"Value\": 31217}, {\"Item_code_cpc\": \"01253.02\", \"Item\": \"Onions and shallots, dry (excluding dehydrated)\", \"Year\": 2020, \"Unit\": \"1000 Int. $\", \"Value\": 4893}, {\"Item_code_cpc\": \"01253.02\", \"Item\": \"Onions and shallots, dry (excluding dehydrated)\", \"Year\": 2020, \"Unit\": \"1000 SLC\", \"Value\": 3290}, {\"Item_code_cpc\": \"01253.02\", \"Item\": \"Onions and shallots, dry (excluding dehydrated)\", \"Year\": 2020, \"Unit\": \"1000 SLC\", \"Value\": 10901}, {\"Item_code_cpc\": \"01253.02\", \"Item\": \"Onions and shallots, dry (excluding dehydrated)\", \"Year\": 2020, \"Unit\": \"1000 US$\", \"Value\": 3758}, {\"Item_code_cpc\": \"01253.02\", \"Item\": \"Onions and shallots, dry (excluding dehydrated)\", \"Year\": 2020, \"Unit\": \"1000 US$\", \"Value\": 12909}, {\"Item_code_cpc\": \"01705\", \"Item\": \"Peas, dry\", \"Year\": 2020, \"Unit\": \"1000 Int. $\", \"Value\": 1110}, {\"Item_code_cpc\": \"01510\", \"Item\": \"Potatoes\", \"Year\": 2020, \"Unit\": \"1000 Int. $\", \"Value\": 75118}, {\"Item_code_cpc\": \"01235\", \"Item\": \"Pumpkins, squash and gourds\", \"Year\": 2020, \"Unit\": \"1000 Int. $\", \"Value\": 290}, {\"Item_code_cpc\": \"01443\", \"Item\": \"Rape or colza seed\", \"Year\": 2020, \"Unit\": \"1000 Int. $\", \"Value\": 20749}, {\"Item_code_cpc\": \"01353.01\", \"Item\": \"Raspberries\", \"Year\": 2020, \"Unit\": \"1000 Int. $\", \"Value\": 1018}, {\"Item_code_cpc\": \"02211\", \"Item\": \"Raw milk of cattle\", \"Year\": 2020, \"Unit\": \"1000 Int. $\", \"Value\": 3562869}, {\"Item_code_cpc\": \"02211\", \"Item\": \"Raw milk of cattle\", \"Year\": 2020, \"Unit\": \"1000 SLC\", \"Value\": 2821861}, {\"Item_code_cpc\": \"02211\", \"Item\": \"Raw milk of cattle\", \"Year\": 2020, \"Unit\": \"1000 SLC\", \"Value\": 2498808}, {\"Item_code_cpc\": \"02211\", \"Item\": \"Raw milk of cattle\", \"Year\": 2020, \"Unit\": \"1000 US$\", \"Value\": 3223118}, {\"Item_code_cpc\": \"02211\", \"Item\": \"Raw milk of cattle\", \"Year\": 2020, \"Unit\": \"1000 US$\", \"Value\": 2986092}, {\"Item_code_cpc\": \"02941\", \"Item\": \"Shorn wool, greasy, including fleece-washed shorn wool\", \"Year\": 2020, \"Unit\": \"1000 Int. $\", \"Value\": 55839}, {\"Item_code_cpc\": \"01215\", \"Item\": \"Spinach\", \"Year\": 2020, \"Unit\": \"1000 Int. $\", \"Value\": 1524}, {\"Item_code_cpc\": \"01354\", \"Item\": \"Strawberries\", \"Year\": 2020, \"Unit\": \"1000 Int. $\", \"Value\": 10219}, {\"Item_code_cpc\": \"01354\", \"Item\": \"Strawberries\", \"Year\": 2020, \"Unit\": \"1000 SLC\", \"Value\": 6882}, {\"Item_code_cpc\": \"01354\", \"Item\": \"Strawberries\", \"Year\": 2020, \"Unit\": \"1000 SLC\", \"Value\": 7947}, {\"Item_code_cpc\": \"01354\", \"Item\": \"Strawberries\", \"Year\": 2020, \"Unit\": \"1000 US$\", \"Value\": 7860}, {\"Item_code_cpc\": \"01354\", \"Item\": \"Strawberries\", \"Year\": 2020, \"Unit\": \"1000 US$\", \"Value\": 9408}, {\"Item_code_cpc\": \"01234\", \"Item\": \"Tomatoes\", \"Year\": 2020, \"Unit\": \"1000 Int. $\", \"Value\": 1766}, {\"Item_code_cpc\": \"01234\", \"Item\": \"Tomatoes\", \"Year\": 2020, \"Unit\": \"1000 SLC\", \"Value\": 5194}, {\"Item_code_cpc\": \"01234\", \"Item\": \"Tomatoes\", \"Year\": 2020, \"Unit\": \"1000 SLC\", \"Value\": 5194}, {\"Item_code_cpc\": \"01234\", \"Item\": \"Tomatoes\", \"Year\": 2020, \"Unit\": \"1000 US$\", \"Value\": 5933}, {\"Item_code_cpc\": \"01234\", \"Item\": \"Tomatoes\", \"Year\": 2020, \"Unit\": \"1000 US$\", \"Value\": 6132}, {\"Item_code_cpc\": \"0111\", \"Item\": \"Wheat\", \"Year\": 2020, \"Unit\": \"1000 Int. $\", \"Value\": 86424}, {\"Item_code_cpc\": \"0111\", \"Item\": \"Wheat\", \"Year\": 2020, \"Unit\": \"1000 SLC\", \"Value\": 63058}, {\"Item_code_cpc\": \"0111\", \"Item\": \"Wheat\", \"Year\": 2020, \"Unit\": \"1000 SLC\", \"Value\": 56618}, {\"Item_code_cpc\": \"0111\", \"Item\": \"Wheat\", \"Year\": 2020, \"Unit\": \"1000 US$\", \"Value\": 72025}, {\"Item_code_cpc\": \"0111\", \"Item\": \"Wheat\", \"Year\": 2020, \"Unit\": \"1000 US$\", \"Value\": 67951}]}}, {\"mode\": \"vega-lite\"});\n",
       "</script>"
      ],
      "text/plain": [
       "alt.Chart(...)"
      ]
     },
     "execution_count": 15,
     "metadata": {},
     "output_type": "execute_result"
    }
   ],
   "source": [
    "# Import interactive Altair library\n",
    "import altair as alt\n",
    "\n",
    "# First Overview of the Interactive View for 2020\n",
    "ir_prod_2020 = ir_prod_value_df.loc[ir_prod_value_df['Year']==2020]\n",
    "\n",
    "alt.Chart(ir_prod_2020).mark_point().encode(\n",
    "    alt.X('Item_code_cpc'),\n",
    "    alt.Y('Value')\n",
    ")\n",
    "\n"
   ]
  },
  {
   "cell_type": "code",
   "execution_count": 19,
   "id": "b71e3e14",
   "metadata": {},
   "outputs": [
    {
     "data": {
      "text/html": [
       "\n",
       "<div id=\"altair-viz-5a70dbe648c84cdaa70d1e50e09e01e2\"></div>\n",
       "<script type=\"text/javascript\">\n",
       "  var VEGA_DEBUG = (typeof VEGA_DEBUG == \"undefined\") ? {} : VEGA_DEBUG;\n",
       "  (function(spec, embedOpt){\n",
       "    let outputDiv = document.currentScript.previousElementSibling;\n",
       "    if (outputDiv.id !== \"altair-viz-5a70dbe648c84cdaa70d1e50e09e01e2\") {\n",
       "      outputDiv = document.getElementById(\"altair-viz-5a70dbe648c84cdaa70d1e50e09e01e2\");\n",
       "    }\n",
       "    const paths = {\n",
       "      \"vega\": \"https://cdn.jsdelivr.net/npm//vega@5?noext\",\n",
       "      \"vega-lib\": \"https://cdn.jsdelivr.net/npm//vega-lib?noext\",\n",
       "      \"vega-lite\": \"https://cdn.jsdelivr.net/npm//vega-lite@4.17.0?noext\",\n",
       "      \"vega-embed\": \"https://cdn.jsdelivr.net/npm//vega-embed@6?noext\",\n",
       "    };\n",
       "\n",
       "    function maybeLoadScript(lib, version) {\n",
       "      var key = `${lib.replace(\"-\", \"\")}_version`;\n",
       "      return (VEGA_DEBUG[key] == version) ?\n",
       "        Promise.resolve(paths[lib]) :\n",
       "        new Promise(function(resolve, reject) {\n",
       "          var s = document.createElement('script');\n",
       "          document.getElementsByTagName(\"head\")[0].appendChild(s);\n",
       "          s.async = true;\n",
       "          s.onload = () => {\n",
       "            VEGA_DEBUG[key] = version;\n",
       "            return resolve(paths[lib]);\n",
       "          };\n",
       "          s.onerror = () => reject(`Error loading script: ${paths[lib]}`);\n",
       "          s.src = paths[lib];\n",
       "        });\n",
       "    }\n",
       "\n",
       "    function showError(err) {\n",
       "      outputDiv.innerHTML = `<div class=\"error\" style=\"color:red;\">${err}</div>`;\n",
       "      throw err;\n",
       "    }\n",
       "\n",
       "    function displayChart(vegaEmbed) {\n",
       "      vegaEmbed(outputDiv, spec, embedOpt)\n",
       "        .catch(err => showError(`Javascript Error: ${err.message}<br>This usually means there's a typo in your chart specification. See the javascript console for the full traceback.`));\n",
       "    }\n",
       "\n",
       "    if(typeof define === \"function\" && define.amd) {\n",
       "      requirejs.config({paths});\n",
       "      require([\"vega-embed\"], displayChart, err => showError(`Error loading script: ${err.message}`));\n",
       "    } else {\n",
       "      maybeLoadScript(\"vega\", \"5\")\n",
       "        .then(() => maybeLoadScript(\"vega-lite\", \"4.17.0\"))\n",
       "        .then(() => maybeLoadScript(\"vega-embed\", \"6\"))\n",
       "        .catch(showError)\n",
       "        .then(() => displayChart(vegaEmbed));\n",
       "    }\n",
       "  })({\"config\": {\"view\": {\"continuousWidth\": 400, \"continuousHeight\": 300}}, \"data\": {\"name\": \"data-ac5d1aeb7945cf4246693dc5728de8fa\"}, \"mark\": {\"type\": \"point\", \"filled\": true}, \"encoding\": {\"x\": {\"field\": \"Item_code_cpc\", \"scale\": {\"zero\": false}, \"type\": \"nominal\"}, \"y\": {\"field\": \"Value\", \"scale\": {\"zero\": false}, \"type\": \"quantitative\"}}, \"selection\": {\"select\": {\"type\": \"single\", \"fields\": [\"Year\"], \"init\": {\"Year\": 2016}, \"bind\": {\"input\": \"range\", \"max\": 2020, \"min\": 2016, \"step\": 5}}}, \"transform\": [{\"filter\": {\"selection\": \"select\"}}], \"$schema\": \"https://vega.github.io/schema/vega-lite/v4.17.0.json\", \"datasets\": {\"data-ac5d1aeb7945cf4246693dc5728de8fa\": [{\"Item_code_cpc\": \"01341\", \"Item\": \"Apples\", \"Year\": 2016, \"Unit\": \"1000 Int. $\", \"Value\": 10290}, {\"Item_code_cpc\": \"01341\", \"Item\": \"Apples\", \"Year\": 2017, \"Unit\": \"1000 Int. $\", \"Value\": 10086}, {\"Item_code_cpc\": \"01341\", \"Item\": \"Apples\", \"Year\": 2018, \"Unit\": \"1000 Int. $\", \"Value\": 9506}, {\"Item_code_cpc\": \"01341\", \"Item\": \"Apples\", \"Year\": 2019, \"Unit\": \"1000 Int. $\", \"Value\": 9383}, {\"Item_code_cpc\": \"01341\", \"Item\": \"Apples\", \"Year\": 2020, \"Unit\": \"1000 Int. $\", \"Value\": 9190}, {\"Item_code_cpc\": \"0115\", \"Item\": \"Barley\", \"Year\": 2016, \"Unit\": \"1000 Int. $\", \"Value\": 288323}, {\"Item_code_cpc\": \"0115\", \"Item\": \"Barley\", \"Year\": 2017, \"Unit\": \"1000 Int. $\", \"Value\": 293371}, {\"Item_code_cpc\": \"0115\", \"Item\": \"Barley\", \"Year\": 2018, \"Unit\": \"1000 Int. $\", \"Value\": 230199}, {\"Item_code_cpc\": \"0115\", \"Item\": \"Barley\", \"Year\": 2019, \"Unit\": \"1000 Int. $\", \"Value\": 288265}, {\"Item_code_cpc\": \"0115\", \"Item\": \"Barley\", \"Year\": 2020, \"Unit\": \"1000 Int. $\", \"Value\": 262520}, {\"Item_code_cpc\": \"0115\", \"Item\": \"Barley\", \"Year\": 2016, \"Unit\": \"1000 SLC\", \"Value\": 339614}, {\"Item_code_cpc\": \"0115\", \"Item\": \"Barley\", \"Year\": 2017, \"Unit\": \"1000 SLC\", \"Value\": 447918}, {\"Item_code_cpc\": \"0115\", \"Item\": \"Barley\", \"Year\": 2018, \"Unit\": \"1000 SLC\", \"Value\": 378156}, {\"Item_code_cpc\": \"0115\", \"Item\": \"Barley\", \"Year\": 2019, \"Unit\": \"1000 SLC\", \"Value\": 504122}, {\"Item_code_cpc\": \"0115\", \"Item\": \"Barley\", \"Year\": 2020, \"Unit\": \"1000 SLC\", \"Value\": 439851}, {\"Item_code_cpc\": \"0115\", \"Item\": \"Barley\", \"Year\": 2016, \"Unit\": \"1000 SLC\", \"Value\": 318832}, {\"Item_code_cpc\": \"0115\", \"Item\": \"Barley\", \"Year\": 2017, \"Unit\": \"1000 SLC\", \"Value\": 324415}, {\"Item_code_cpc\": \"0115\", \"Item\": \"Barley\", \"Year\": 2018, \"Unit\": \"1000 SLC\", \"Value\": 254557}, {\"Item_code_cpc\": \"0115\", \"Item\": \"Barley\", \"Year\": 2019, \"Unit\": \"1000 SLC\", \"Value\": 318768}, {\"Item_code_cpc\": \"0115\", \"Item\": \"Barley\", \"Year\": 2020, \"Unit\": \"1000 SLC\", \"Value\": 290299}, {\"Item_code_cpc\": \"0115\", \"Item\": \"Barley\", \"Year\": 2016, \"Unit\": \"1000 US$\", \"Value\": 375665}, {\"Item_code_cpc\": \"0115\", \"Item\": \"Barley\", \"Year\": 2017, \"Unit\": \"1000 US$\", \"Value\": 506004}, {\"Item_code_cpc\": \"0115\", \"Item\": \"Barley\", \"Year\": 2018, \"Unit\": \"1000 US$\", \"Value\": 446585}, {\"Item_code_cpc\": \"0115\", \"Item\": \"Barley\", \"Year\": 2019, \"Unit\": \"1000 US$\", \"Value\": 564352}, {\"Item_code_cpc\": \"0115\", \"Item\": \"Barley\", \"Year\": 2020, \"Unit\": \"1000 US$\", \"Value\": 502396}, {\"Item_code_cpc\": \"0115\", \"Item\": \"Barley\", \"Year\": 2016, \"Unit\": \"1000 US$\", \"Value\": 378421}, {\"Item_code_cpc\": \"0115\", \"Item\": \"Barley\", \"Year\": 2017, \"Unit\": \"1000 US$\", \"Value\": 385047}, {\"Item_code_cpc\": \"0115\", \"Item\": \"Barley\", \"Year\": 2018, \"Unit\": \"1000 US$\", \"Value\": 302134}, {\"Item_code_cpc\": \"0115\", \"Item\": \"Barley\", \"Year\": 2019, \"Unit\": \"1000 US$\", \"Value\": 378345}, {\"Item_code_cpc\": \"0115\", \"Item\": \"Barley\", \"Year\": 2020, \"Unit\": \"1000 US$\", \"Value\": 344555}, {\"Item_code_cpc\": \"01702\", \"Item\": \"Broad beans and horse beans, dry\", \"Year\": 2016, \"Unit\": \"1000 Int. $\", \"Value\": 22603}, {\"Item_code_cpc\": \"01702\", \"Item\": \"Broad beans and horse beans, dry\", \"Year\": 2017, \"Unit\": \"1000 Int. $\", \"Value\": 29440}, {\"Item_code_cpc\": \"01702\", \"Item\": \"Broad beans and horse beans, dry\", \"Year\": 2018, \"Unit\": \"1000 Int. $\", \"Value\": 6673}, {\"Item_code_cpc\": \"01702\", \"Item\": \"Broad beans and horse beans, dry\", \"Year\": 2019, \"Unit\": \"1000 Int. $\", \"Value\": 12701}, {\"Item_code_cpc\": \"01702\", \"Item\": \"Broad beans and horse beans, dry\", \"Year\": 2020, \"Unit\": \"1000 Int. $\", \"Value\": 19216}, {\"Item_code_cpc\": \"01243\", \"Item\": \"Broad beans and horse beans, green\", \"Year\": 2016, \"Unit\": \"1000 Int. $\", \"Value\": 1}, {\"Item_code_cpc\": \"01243\", \"Item\": \"Broad beans and horse beans, green\", \"Year\": 2017, \"Unit\": \"1000 Int. $\", \"Value\": 1}, {\"Item_code_cpc\": \"01212\", \"Item\": \"Cabbages\", \"Year\": 2016, \"Unit\": \"1000 Int. $\", \"Value\": 5438}, {\"Item_code_cpc\": \"01212\", \"Item\": \"Cabbages\", \"Year\": 2017, \"Unit\": \"1000 Int. $\", \"Value\": 5590}, {\"Item_code_cpc\": \"01212\", \"Item\": \"Cabbages\", \"Year\": 2018, \"Unit\": \"1000 Int. $\", \"Value\": 5909}, {\"Item_code_cpc\": \"01212\", \"Item\": \"Cabbages\", \"Year\": 2019, \"Unit\": \"1000 Int. $\", \"Value\": 5730}, {\"Item_code_cpc\": \"01212\", \"Item\": \"Cabbages\", \"Year\": 2020, \"Unit\": \"1000 Int. $\", \"Value\": 5730}, {\"Item_code_cpc\": \"01212\", \"Item\": \"Cabbages\", \"Year\": 2016, \"Unit\": \"1000 SLC\", \"Value\": 8963}, {\"Item_code_cpc\": \"01212\", \"Item\": \"Cabbages\", \"Year\": 2017, \"Unit\": \"1000 SLC\", \"Value\": 9623}, {\"Item_code_cpc\": \"01212\", \"Item\": \"Cabbages\", \"Year\": 2018, \"Unit\": \"1000 SLC\", \"Value\": 12551}, {\"Item_code_cpc\": \"01212\", \"Item\": \"Cabbages\", \"Year\": 2019, \"Unit\": \"1000 SLC\", \"Value\": 11961}, {\"Item_code_cpc\": \"01212\", \"Item\": \"Cabbages\", \"Year\": 2020, \"Unit\": \"1000 SLC\", \"Value\": 9863}, {\"Item_code_cpc\": \"01212\", \"Item\": \"Cabbages\", \"Year\": 2016, \"Unit\": \"1000 SLC\", \"Value\": 8963}, {\"Item_code_cpc\": \"01212\", \"Item\": \"Cabbages\", \"Year\": 2017, \"Unit\": \"1000 SLC\", \"Value\": 9212}, {\"Item_code_cpc\": \"01212\", \"Item\": \"Cabbages\", \"Year\": 2018, \"Unit\": \"1000 SLC\", \"Value\": 9739}, {\"Item_code_cpc\": \"01212\", \"Item\": \"Cabbages\", \"Year\": 2019, \"Unit\": \"1000 SLC\", \"Value\": 9443}, {\"Item_code_cpc\": \"01212\", \"Item\": \"Cabbages\", \"Year\": 2020, \"Unit\": \"1000 SLC\", \"Value\": 9443}, {\"Item_code_cpc\": \"01212\", \"Item\": \"Cabbages\", \"Year\": 2016, \"Unit\": \"1000 US$\", \"Value\": 9914}, {\"Item_code_cpc\": \"01212\", \"Item\": \"Cabbages\", \"Year\": 2017, \"Unit\": \"1000 US$\", \"Value\": 10870}, {\"Item_code_cpc\": \"01212\", \"Item\": \"Cabbages\", \"Year\": 2018, \"Unit\": \"1000 US$\", \"Value\": 14823}, {\"Item_code_cpc\": \"01212\", \"Item\": \"Cabbages\", \"Year\": 2019, \"Unit\": \"1000 US$\", \"Value\": 13389}, {\"Item_code_cpc\": \"01212\", \"Item\": \"Cabbages\", \"Year\": 2020, \"Unit\": \"1000 US$\", \"Value\": 11265}, {\"Item_code_cpc\": \"01212\", \"Item\": \"Cabbages\", \"Year\": 2016, \"Unit\": \"1000 US$\", \"Value\": 10582}, {\"Item_code_cpc\": \"01212\", \"Item\": \"Cabbages\", \"Year\": 2017, \"Unit\": \"1000 US$\", \"Value\": 10877}, {\"Item_code_cpc\": \"01212\", \"Item\": \"Cabbages\", \"Year\": 2018, \"Unit\": \"1000 US$\", \"Value\": 11498}, {\"Item_code_cpc\": \"01212\", \"Item\": \"Cabbages\", \"Year\": 2019, \"Unit\": \"1000 US$\", \"Value\": 11148}, {\"Item_code_cpc\": \"01212\", \"Item\": \"Cabbages\", \"Year\": 2020, \"Unit\": \"1000 US$\", \"Value\": 11148}, {\"Item_code_cpc\": \"01251\", \"Item\": \"Carrots and turnips\", \"Year\": 2016, \"Unit\": \"1000 Int. $\", \"Value\": 19844}, {\"Item_code_cpc\": \"01251\", \"Item\": \"Carrots and turnips\", \"Year\": 2017, \"Unit\": \"1000 Int. $\", \"Value\": 14156}, {\"Item_code_cpc\": \"01251\", \"Item\": \"Carrots and turnips\", \"Year\": 2018, \"Unit\": \"1000 Int. $\", \"Value\": 13078}, {\"Item_code_cpc\": \"01251\", \"Item\": \"Carrots and turnips\", \"Year\": 2019, \"Unit\": \"1000 Int. $\", \"Value\": 14645}, {\"Item_code_cpc\": \"01251\", \"Item\": \"Carrots and turnips\", \"Year\": 2020, \"Unit\": \"1000 Int. $\", \"Value\": 14167}, {\"Item_code_cpc\": \"01251\", \"Item\": \"Carrots and turnips\", \"Year\": 2016, \"Unit\": \"1000 SLC\", \"Value\": 28720}, {\"Item_code_cpc\": \"01251\", \"Item\": \"Carrots and turnips\", \"Year\": 2017, \"Unit\": \"1000 SLC\", \"Value\": 20488}, {\"Item_code_cpc\": \"01251\", \"Item\": \"Carrots and turnips\", \"Year\": 2018, \"Unit\": \"1000 SLC\", \"Value\": 17982}, {\"Item_code_cpc\": \"01251\", \"Item\": \"Carrots and turnips\", \"Year\": 2019, \"Unit\": \"1000 SLC\", \"Value\": 25435}, {\"Item_code_cpc\": \"01251\", \"Item\": \"Carrots and turnips\", \"Year\": 2020, \"Unit\": \"1000 SLC\", \"Value\": 24605}, {\"Item_code_cpc\": \"01251\", \"Item\": \"Carrots and turnips\", \"Year\": 2016, \"Unit\": \"1000 SLC\", \"Value\": 29917}, {\"Item_code_cpc\": \"01251\", \"Item\": \"Carrots and turnips\", \"Year\": 2017, \"Unit\": \"1000 SLC\", \"Value\": 21342}, {\"Item_code_cpc\": \"01251\", \"Item\": \"Carrots and turnips\", \"Year\": 2018, \"Unit\": \"1000 SLC\", \"Value\": 19717}, {\"Item_code_cpc\": \"01251\", \"Item\": \"Carrots and turnips\", \"Year\": 2019, \"Unit\": \"1000 SLC\", \"Value\": 22079}, {\"Item_code_cpc\": \"01251\", \"Item\": \"Carrots and turnips\", \"Year\": 2020, \"Unit\": \"1000 SLC\", \"Value\": 21358}, {\"Item_code_cpc\": \"01251\", \"Item\": \"Carrots and turnips\", \"Year\": 2016, \"Unit\": \"1000 US$\", \"Value\": 31770}, {\"Item_code_cpc\": \"01251\", \"Item\": \"Carrots and turnips\", \"Year\": 2017, \"Unit\": \"1000 US$\", \"Value\": 23145}, {\"Item_code_cpc\": \"01251\", \"Item\": \"Carrots and turnips\", \"Year\": 2018, \"Unit\": \"1000 US$\", \"Value\": 21235}, {\"Item_code_cpc\": \"01251\", \"Item\": \"Carrots and turnips\", \"Year\": 2019, \"Unit\": \"1000 US$\", \"Value\": 28474}, {\"Item_code_cpc\": \"01251\", \"Item\": \"Carrots and turnips\", \"Year\": 2020, \"Unit\": \"1000 US$\", \"Value\": 28104}, {\"Item_code_cpc\": \"01251\", \"Item\": \"Carrots and turnips\", \"Year\": 2016, \"Unit\": \"1000 US$\", \"Value\": 35236}, {\"Item_code_cpc\": \"01251\", \"Item\": \"Carrots and turnips\", \"Year\": 2017, \"Unit\": \"1000 US$\", \"Value\": 25136}, {\"Item_code_cpc\": \"01251\", \"Item\": \"Carrots and turnips\", \"Year\": 2018, \"Unit\": \"1000 US$\", \"Value\": 23222}, {\"Item_code_cpc\": \"01251\", \"Item\": \"Carrots and turnips\", \"Year\": 2019, \"Unit\": \"1000 US$\", \"Value\": 26005}, {\"Item_code_cpc\": \"01251\", \"Item\": \"Carrots and turnips\", \"Year\": 2020, \"Unit\": \"1000 US$\", \"Value\": 25156}, {\"Item_code_cpc\": \"01213\", \"Item\": \"Cauliflowers and broccoli\", \"Year\": 2016, \"Unit\": \"1000 Int. $\", \"Value\": 5068}, {\"Item_code_cpc\": \"01213\", \"Item\": \"Cauliflowers and broccoli\", \"Year\": 2017, \"Unit\": \"1000 Int. $\", \"Value\": 4354}, {\"Item_code_cpc\": \"01213\", \"Item\": \"Cauliflowers and broccoli\", \"Year\": 2018, \"Unit\": \"1000 Int. $\", \"Value\": 4505}, {\"Item_code_cpc\": \"01213\", \"Item\": \"Cauliflowers and broccoli\", \"Year\": 2019, \"Unit\": \"1000 Int. $\", \"Value\": 4364}, {\"Item_code_cpc\": \"01213\", \"Item\": \"Cauliflowers and broccoli\", \"Year\": 2020, \"Unit\": \"1000 Int. $\", \"Value\": 4942}, {\"Item_code_cpc\": \"01213\", \"Item\": \"Cauliflowers and broccoli\", \"Year\": 2016, \"Unit\": \"1000 SLC\", \"Value\": 6480}, {\"Item_code_cpc\": \"01213\", \"Item\": \"Cauliflowers and broccoli\", \"Year\": 2017, \"Unit\": \"1000 SLC\", \"Value\": 5566}, {\"Item_code_cpc\": \"01213\", \"Item\": \"Cauliflowers and broccoli\", \"Year\": 2018, \"Unit\": \"1000 SLC\", \"Value\": 6682}, {\"Item_code_cpc\": \"01213\", \"Item\": \"Cauliflowers and broccoli\", \"Year\": 2019, \"Unit\": \"1000 SLC\", \"Value\": 6547}, {\"Item_code_cpc\": \"01213\", \"Item\": \"Cauliflowers and broccoli\", \"Year\": 2020, \"Unit\": \"1000 SLC\", \"Value\": 7160}, {\"Item_code_cpc\": \"01213\", \"Item\": \"Cauliflowers and broccoli\", \"Year\": 2016, \"Unit\": \"1000 SLC\", \"Value\": 6480}, {\"Item_code_cpc\": \"01213\", \"Item\": \"Cauliflowers and broccoli\", \"Year\": 2017, \"Unit\": \"1000 SLC\", \"Value\": 5566}, {\"Item_code_cpc\": \"01213\", \"Item\": \"Cauliflowers and broccoli\", \"Year\": 2018, \"Unit\": \"1000 SLC\", \"Value\": 5760}, {\"Item_code_cpc\": \"01213\", \"Item\": \"Cauliflowers and broccoli\", \"Year\": 2019, \"Unit\": \"1000 SLC\", \"Value\": 5580}, {\"Item_code_cpc\": \"01213\", \"Item\": \"Cauliflowers and broccoli\", \"Year\": 2020, \"Unit\": \"1000 SLC\", \"Value\": 6318}, {\"Item_code_cpc\": \"01213\", \"Item\": \"Cauliflowers and broccoli\", \"Year\": 2016, \"Unit\": \"1000 US$\", \"Value\": 7168}, {\"Item_code_cpc\": \"01213\", \"Item\": \"Cauliflowers and broccoli\", \"Year\": 2017, \"Unit\": \"1000 US$\", \"Value\": 6288}, {\"Item_code_cpc\": \"01213\", \"Item\": \"Cauliflowers and broccoli\", \"Year\": 2018, \"Unit\": \"1000 US$\", \"Value\": 7891}, {\"Item_code_cpc\": \"01213\", \"Item\": \"Cauliflowers and broccoli\", \"Year\": 2019, \"Unit\": \"1000 US$\", \"Value\": 7329}, {\"Item_code_cpc\": \"01213\", \"Item\": \"Cauliflowers and broccoli\", \"Year\": 2020, \"Unit\": \"1000 US$\", \"Value\": 8179}, {\"Item_code_cpc\": \"01213\", \"Item\": \"Cauliflowers and broccoli\", \"Year\": 2016, \"Unit\": \"1000 US$\", \"Value\": 7651}, {\"Item_code_cpc\": \"01213\", \"Item\": \"Cauliflowers and broccoli\", \"Year\": 2017, \"Unit\": \"1000 US$\", \"Value\": 6572}, {\"Item_code_cpc\": \"01213\", \"Item\": \"Cauliflowers and broccoli\", \"Year\": 2018, \"Unit\": \"1000 US$\", \"Value\": 6801}, {\"Item_code_cpc\": \"01213\", \"Item\": \"Cauliflowers and broccoli\", \"Year\": 2019, \"Unit\": \"1000 US$\", \"Value\": 6588}, {\"Item_code_cpc\": \"01213\", \"Item\": \"Cauliflowers and broccoli\", \"Year\": 2020, \"Unit\": \"1000 US$\", \"Value\": 7459}, {\"Item_code_cpc\": \"01199.90\", \"Item\": \"Cereals n.e.c.\", \"Year\": 2016, \"Unit\": \"1000 Int. $\", \"Value\": 426}, {\"Item_code_cpc\": \"01199.90\", \"Item\": \"Cereals n.e.c.\", \"Year\": 2017, \"Unit\": \"1000 Int. $\", \"Value\": 430}, {\"Item_code_cpc\": \"01231\", \"Item\": \"Chillies and peppers, green (Capsicum spp. and Pimenta spp.)\", \"Year\": 2016, \"Unit\": \"1000 Int. $\", \"Value\": 240}, {\"Item_code_cpc\": \"01231\", \"Item\": \"Chillies and peppers, green (Capsicum spp. and Pimenta spp.)\", \"Year\": 2017, \"Unit\": \"1000 Int. $\", \"Value\": 228}, {\"Item_code_cpc\": \"01232\", \"Item\": \"Cucumbers and gherkins\", \"Year\": 2016, \"Unit\": \"1000 Int. $\", \"Value\": 599}, {\"Item_code_cpc\": \"01232\", \"Item\": \"Cucumbers and gherkins\", \"Year\": 2017, \"Unit\": \"1000 Int. $\", \"Value\": 617}, {\"Item_code_cpc\": \"01232\", \"Item\": \"Cucumbers and gherkins\", \"Year\": 2018, \"Unit\": \"1000 Int. $\", \"Value\": 617}, {\"Item_code_cpc\": \"01232\", \"Item\": \"Cucumbers and gherkins\", \"Year\": 2019, \"Unit\": \"1000 Int. $\", \"Value\": 647}, {\"Item_code_cpc\": \"01232\", \"Item\": \"Cucumbers and gherkins\", \"Year\": 2020, \"Unit\": \"1000 Int. $\", \"Value\": 692}, {\"Item_code_cpc\": \"01351.01\", \"Item\": \"Currants\", \"Year\": 2016, \"Unit\": \"1000 Int. $\", \"Value\": 339}, {\"Item_code_cpc\": \"01351.01\", \"Item\": \"Currants\", \"Year\": 2017, \"Unit\": \"1000 Int. $\", \"Value\": 345}, {\"Item_code_cpc\": \"01351.01\", \"Item\": \"Currants\", \"Year\": 2018, \"Unit\": \"1000 Int. $\", \"Value\": 308}, {\"Item_code_cpc\": \"01351.01\", \"Item\": \"Currants\", \"Year\": 2019, \"Unit\": \"1000 Int. $\", \"Value\": 231}, {\"Item_code_cpc\": \"01351.01\", \"Item\": \"Currants\", \"Year\": 2020, \"Unit\": \"1000 Int. $\", \"Value\": 154}, {\"Item_code_cpc\": \"0231\", \"Item\": \"Hen eggs in shell, fresh\", \"Year\": 2016, \"Unit\": \"1000 Int. $\", \"Value\": 64371}, {\"Item_code_cpc\": \"0231\", \"Item\": \"Hen eggs in shell, fresh\", \"Year\": 2017, \"Unit\": \"1000 Int. $\", \"Value\": 67232}, {\"Item_code_cpc\": \"0231\", \"Item\": \"Hen eggs in shell, fresh\", \"Year\": 2018, \"Unit\": \"1000 Int. $\", \"Value\": 67232}, {\"Item_code_cpc\": \"0231\", \"Item\": \"Hen eggs in shell, fresh\", \"Year\": 2019, \"Unit\": \"1000 Int. $\", \"Value\": 67232}, {\"Item_code_cpc\": \"0231\", \"Item\": \"Hen eggs in shell, fresh\", \"Year\": 2020, \"Unit\": \"1000 Int. $\", \"Value\": 67232}, {\"Item_code_cpc\": \"0231\", \"Item\": \"Hen eggs in shell, fresh\", \"Year\": 2016, \"Unit\": \"1000 SLC\", \"Value\": 84806}, {\"Item_code_cpc\": \"0231\", \"Item\": \"Hen eggs in shell, fresh\", \"Year\": 2017, \"Unit\": \"1000 SLC\", \"Value\": 88342}, {\"Item_code_cpc\": \"0231\", \"Item\": \"Hen eggs in shell, fresh\", \"Year\": 2018, \"Unit\": \"1000 SLC\", \"Value\": 90741}, {\"Item_code_cpc\": \"0231\", \"Item\": \"Hen eggs in shell, fresh\", \"Year\": 2019, \"Unit\": \"1000 SLC\", \"Value\": 91411}, {\"Item_code_cpc\": \"0231\", \"Item\": \"Hen eggs in shell, fresh\", \"Year\": 2020, \"Unit\": \"1000 SLC\", \"Value\": 92289}, {\"Item_code_cpc\": \"0231\", \"Item\": \"Hen eggs in shell, fresh\", \"Year\": 2016, \"Unit\": \"1000 SLC\", \"Value\": 82640}, {\"Item_code_cpc\": \"0231\", \"Item\": \"Hen eggs in shell, fresh\", \"Year\": 2017, \"Unit\": \"1000 SLC\", \"Value\": 86313}, {\"Item_code_cpc\": \"0231\", \"Item\": \"Hen eggs in shell, fresh\", \"Year\": 2018, \"Unit\": \"1000 SLC\", \"Value\": 86313}, {\"Item_code_cpc\": \"0231\", \"Item\": \"Hen eggs in shell, fresh\", \"Year\": 2019, \"Unit\": \"1000 SLC\", \"Value\": 86313}, {\"Item_code_cpc\": \"0231\", \"Item\": \"Hen eggs in shell, fresh\", \"Year\": 2020, \"Unit\": \"1000 SLC\", \"Value\": 86313}, {\"Item_code_cpc\": \"0231\", \"Item\": \"Hen eggs in shell, fresh\", \"Year\": 2016, \"Unit\": \"1000 US$\", \"Value\": 93809}, {\"Item_code_cpc\": \"0231\", \"Item\": \"Hen eggs in shell, fresh\", \"Year\": 2017, \"Unit\": \"1000 US$\", \"Value\": 99798}, {\"Item_code_cpc\": \"0231\", \"Item\": \"Hen eggs in shell, fresh\", \"Year\": 2018, \"Unit\": \"1000 US$\", \"Value\": 107161}, {\"Item_code_cpc\": \"0231\", \"Item\": \"Hen eggs in shell, fresh\", \"Year\": 2019, \"Unit\": \"1000 US$\", \"Value\": 102332}, {\"Item_code_cpc\": \"0231\", \"Item\": \"Hen eggs in shell, fresh\", \"Year\": 2020, \"Unit\": \"1000 US$\", \"Value\": 105413}, {\"Item_code_cpc\": \"0231\", \"Item\": \"Hen eggs in shell, fresh\", \"Year\": 2016, \"Unit\": \"1000 US$\", \"Value\": 97143}, {\"Item_code_cpc\": \"0231\", \"Item\": \"Hen eggs in shell, fresh\", \"Year\": 2017, \"Unit\": \"1000 US$\", \"Value\": 101460}, {\"Item_code_cpc\": \"0231\", \"Item\": \"Hen eggs in shell, fresh\", \"Year\": 2018, \"Unit\": \"1000 US$\", \"Value\": 101460}, {\"Item_code_cpc\": \"0231\", \"Item\": \"Hen eggs in shell, fresh\", \"Year\": 2019, \"Unit\": \"1000 US$\", \"Value\": 101460}, {\"Item_code_cpc\": \"0231\", \"Item\": \"Hen eggs in shell, fresh\", \"Year\": 2020, \"Unit\": \"1000 US$\", \"Value\": 101460}, {\"Item_code_cpc\": \"01659\", \"Item\": \"Hop cones\", \"Year\": 2016, \"Unit\": \"1000 Int. $\", \"Value\": 238}, {\"Item_code_cpc\": \"01659\", \"Item\": \"Hop cones\", \"Year\": 2017, \"Unit\": \"1000 Int. $\", \"Value\": 238}, {\"Item_code_cpc\": \"21118.01i\", \"Item\": \"Horse meat, fresh or chilled (indigenous)\", \"Year\": 2018, \"Unit\": \"1000 Int. $\", \"Value\": 10621}, {\"Item_code_cpc\": \"21118.01i\", \"Item\": \"Horse meat, fresh or chilled (indigenous)\", \"Year\": 2019, \"Unit\": \"1000 Int. $\", \"Value\": 10644}, {\"Item_code_cpc\": \"21118.01i\", \"Item\": \"Horse meat, fresh or chilled (indigenous)\", \"Year\": 2020, \"Unit\": \"1000 Int. $\", \"Value\": 10309}, {\"Item_code_cpc\": \"01254\", \"Item\": \"Leeks and other alliaceous vegetables\", \"Year\": 2016, \"Unit\": \"1000 Int. $\", \"Value\": 3597}, {\"Item_code_cpc\": \"01254\", \"Item\": \"Leeks and other alliaceous vegetables\", \"Year\": 2017, \"Unit\": \"1000 Int. $\", \"Value\": 2885}, {\"Item_code_cpc\": \"01254\", \"Item\": \"Leeks and other alliaceous vegetables\", \"Year\": 2018, \"Unit\": \"1000 Int. $\", \"Value\": 2556}, {\"Item_code_cpc\": \"01254\", \"Item\": \"Leeks and other alliaceous vegetables\", \"Year\": 2019, \"Unit\": \"1000 Int. $\", \"Value\": 2764}, {\"Item_code_cpc\": \"01254\", \"Item\": \"Leeks and other alliaceous vegetables\", \"Year\": 2020, \"Unit\": \"1000 Int. $\", \"Value\": 3200}, {\"Item_code_cpc\": \"01214\", \"Item\": \"Lettuce and chicory\", \"Year\": 2016, \"Unit\": \"1000 Int. $\", \"Value\": 3011}, {\"Item_code_cpc\": \"01214\", \"Item\": \"Lettuce and chicory\", \"Year\": 2017, \"Unit\": \"1000 Int. $\", \"Value\": 2465}, {\"Item_code_cpc\": \"01214\", \"Item\": \"Lettuce and chicory\", \"Year\": 2018, \"Unit\": \"1000 Int. $\", \"Value\": 2440}, {\"Item_code_cpc\": \"01214\", \"Item\": \"Lettuce and chicory\", \"Year\": 2019, \"Unit\": \"1000 Int. $\", \"Value\": 2250}, {\"Item_code_cpc\": \"01214\", \"Item\": \"Lettuce and chicory\", \"Year\": 2020, \"Unit\": \"1000 Int. $\", \"Value\": 2333}, {\"Item_code_cpc\": \"01214\", \"Item\": \"Lettuce and chicory\", \"Year\": 2016, \"Unit\": \"1000 SLC\", \"Value\": 5993}, {\"Item_code_cpc\": \"01214\", \"Item\": \"Lettuce and chicory\", \"Year\": 2017, \"Unit\": \"1000 SLC\", \"Value\": 5258}, {\"Item_code_cpc\": \"01214\", \"Item\": \"Lettuce and chicory\", \"Year\": 2018, \"Unit\": \"1000 SLC\", \"Value\": 4773}, {\"Item_code_cpc\": \"01214\", \"Item\": \"Lettuce and chicory\", \"Year\": 2019, \"Unit\": \"1000 SLC\", \"Value\": 4401}, {\"Item_code_cpc\": \"01214\", \"Item\": \"Lettuce and chicory\", \"Year\": 2020, \"Unit\": \"1000 SLC\", \"Value\": 4564}, {\"Item_code_cpc\": \"01214\", \"Item\": \"Lettuce and chicory\", \"Year\": 2016, \"Unit\": \"1000 SLC\", \"Value\": 5971}, {\"Item_code_cpc\": \"01214\", \"Item\": \"Lettuce and chicory\", \"Year\": 2017, \"Unit\": \"1000 SLC\", \"Value\": 4888}, {\"Item_code_cpc\": \"01214\", \"Item\": \"Lettuce and chicory\", \"Year\": 2018, \"Unit\": \"1000 SLC\", \"Value\": 4840}, {\"Item_code_cpc\": \"01214\", \"Item\": \"Lettuce and chicory\", \"Year\": 2019, \"Unit\": \"1000 SLC\", \"Value\": 4463}, {\"Item_code_cpc\": \"01214\", \"Item\": \"Lettuce and chicory\", \"Year\": 2020, \"Unit\": \"1000 SLC\", \"Value\": 4628}, {\"Item_code_cpc\": \"01214\", \"Item\": \"Lettuce and chicory\", \"Year\": 2016, \"Unit\": \"1000 US$\", \"Value\": 6630}, {\"Item_code_cpc\": \"01214\", \"Item\": \"Lettuce and chicory\", \"Year\": 2017, \"Unit\": \"1000 US$\", \"Value\": 5940}, {\"Item_code_cpc\": \"01214\", \"Item\": \"Lettuce and chicory\", \"Year\": 2018, \"Unit\": \"1000 US$\", \"Value\": 5636}, {\"Item_code_cpc\": \"01214\", \"Item\": \"Lettuce and chicory\", \"Year\": 2019, \"Unit\": \"1000 US$\", \"Value\": 4927}, {\"Item_code_cpc\": \"01214\", \"Item\": \"Lettuce and chicory\", \"Year\": 2020, \"Unit\": \"1000 US$\", \"Value\": 5212}, {\"Item_code_cpc\": \"01214\", \"Item\": \"Lettuce and chicory\", \"Year\": 2016, \"Unit\": \"1000 US$\", \"Value\": 7049}, {\"Item_code_cpc\": \"01214\", \"Item\": \"Lettuce and chicory\", \"Year\": 2017, \"Unit\": \"1000 US$\", \"Value\": 5771}, {\"Item_code_cpc\": \"01214\", \"Item\": \"Lettuce and chicory\", \"Year\": 2018, \"Unit\": \"1000 US$\", \"Value\": 5714}, {\"Item_code_cpc\": \"01214\", \"Item\": \"Lettuce and chicory\", \"Year\": 2019, \"Unit\": \"1000 US$\", \"Value\": 5268}, {\"Item_code_cpc\": \"01214\", \"Item\": \"Lettuce and chicory\", \"Year\": 2020, \"Unit\": \"1000 US$\", \"Value\": 5463}, {\"Item_code_cpc\": \"21111.01\", \"Item\": \"Meat of cattle with the bone, fresh or chilled\", \"Year\": 2016, \"Unit\": \"1000 SLC\", \"Value\": 2441421}, {\"Item_code_cpc\": \"21111.01\", \"Item\": \"Meat of cattle with the bone, fresh or chilled\", \"Year\": 2017, \"Unit\": \"1000 SLC\", \"Value\": 2582511}, {\"Item_code_cpc\": \"21111.01\", \"Item\": \"Meat of cattle with the bone, fresh or chilled\", \"Year\": 2018, \"Unit\": \"1000 SLC\", \"Value\": 2212672}, {\"Item_code_cpc\": \"21111.01\", \"Item\": \"Meat of cattle with the bone, fresh or chilled\", \"Year\": 2019, \"Unit\": \"1000 SLC\", \"Value\": 2369902}, {\"Item_code_cpc\": \"21111.01\", \"Item\": \"Meat of cattle with the bone, fresh or chilled\", \"Year\": 2020, \"Unit\": \"1000 SLC\", \"Value\": 2250037}, {\"Item_code_cpc\": \"21111.01\", \"Item\": \"Meat of cattle with the bone, fresh or chilled\", \"Year\": 2016, \"Unit\": \"1000 SLC\", \"Value\": 2407277}, {\"Item_code_cpc\": \"21111.01\", \"Item\": \"Meat of cattle with the bone, fresh or chilled\", \"Year\": 2017, \"Unit\": \"1000 SLC\", \"Value\": 2524286}, {\"Item_code_cpc\": \"21111.01\", \"Item\": \"Meat of cattle with the bone, fresh or chilled\", \"Year\": 2018, \"Unit\": \"1000 SLC\", \"Value\": 2546951}, {\"Item_code_cpc\": \"21111.01\", \"Item\": \"Meat of cattle with the bone, fresh or chilled\", \"Year\": 2019, \"Unit\": \"1000 SLC\", \"Value\": 2535741}, {\"Item_code_cpc\": \"21111.01\", \"Item\": \"Meat of cattle with the bone, fresh or chilled\", \"Year\": 2020, \"Unit\": \"1000 SLC\", \"Value\": 2591300}, {\"Item_code_cpc\": \"21111.01\", \"Item\": \"Meat of cattle with the bone, fresh or chilled\", \"Year\": 2016, \"Unit\": \"1000 US$\", \"Value\": 2700582}, {\"Item_code_cpc\": \"21111.01\", \"Item\": \"Meat of cattle with the bone, fresh or chilled\", \"Year\": 2017, \"Unit\": \"1000 US$\", \"Value\": 2917414}, {\"Item_code_cpc\": \"21111.01\", \"Item\": \"Meat of cattle with the bone, fresh or chilled\", \"Year\": 2018, \"Unit\": \"1000 US$\", \"Value\": 2613065}, {\"Item_code_cpc\": \"21111.01\", \"Item\": \"Meat of cattle with the bone, fresh or chilled\", \"Year\": 2019, \"Unit\": \"1000 US$\", \"Value\": 2653045}, {\"Item_code_cpc\": \"21111.01\", \"Item\": \"Meat of cattle with the bone, fresh or chilled\", \"Year\": 2020, \"Unit\": \"1000 US$\", \"Value\": 2569984}, {\"Item_code_cpc\": \"21111.01\", \"Item\": \"Meat of cattle with the bone, fresh or chilled\", \"Year\": 2016, \"Unit\": \"1000 US$\", \"Value\": 2830793}, {\"Item_code_cpc\": \"21111.01\", \"Item\": \"Meat of cattle with the bone, fresh or chilled\", \"Year\": 2017, \"Unit\": \"1000 US$\", \"Value\": 2968388}, {\"Item_code_cpc\": \"21111.01\", \"Item\": \"Meat of cattle with the bone, fresh or chilled\", \"Year\": 2018, \"Unit\": \"1000 US$\", \"Value\": 2995041}, {\"Item_code_cpc\": \"21111.01\", \"Item\": \"Meat of cattle with the bone, fresh or chilled\", \"Year\": 2019, \"Unit\": \"1000 US$\", \"Value\": 2981858}, {\"Item_code_cpc\": \"21111.01\", \"Item\": \"Meat of cattle with the bone, fresh or chilled\", \"Year\": 2020, \"Unit\": \"1000 US$\", \"Value\": 3047192}, {\"Item_code_cpc\": \"21111.01i\", \"Item\": \"Meat of cattle with the bone, fresh or chilled (indigenous)\", \"Year\": 2016, \"Unit\": \"1000 Int. $\", \"Value\": 2532251}, {\"Item_code_cpc\": \"21111.01i\", \"Item\": \"Meat of cattle with the bone, fresh or chilled (indigenous)\", \"Year\": 2017, \"Unit\": \"1000 Int. $\", \"Value\": 2655335}, {\"Item_code_cpc\": \"21111.01i\", \"Item\": \"Meat of cattle with the bone, fresh or chilled (indigenous)\", \"Year\": 2018, \"Unit\": \"1000 Int. $\", \"Value\": 2679177}, {\"Item_code_cpc\": \"21111.01i\", \"Item\": \"Meat of cattle with the bone, fresh or chilled (indigenous)\", \"Year\": 2019, \"Unit\": \"1000 Int. $\", \"Value\": 2667385}, {\"Item_code_cpc\": \"21111.01i\", \"Item\": \"Meat of cattle with the bone, fresh or chilled (indigenous)\", \"Year\": 2020, \"Unit\": \"1000 Int. $\", \"Value\": 2725828}, {\"Item_code_cpc\": \"21111.01i\", \"Item\": \"Meat of cattle with the bone, fresh or chilled (indigenous)\", \"Year\": 2016, \"Unit\": \"1000 SLC\", \"Value\": 2340926}, {\"Item_code_cpc\": \"21111.01i\", \"Item\": \"Meat of cattle with the bone, fresh or chilled (indigenous)\", \"Year\": 2017, \"Unit\": \"1000 SLC\", \"Value\": 2460522}, {\"Item_code_cpc\": \"21111.01i\", \"Item\": \"Meat of cattle with the bone, fresh or chilled (indigenous)\", \"Year\": 2018, \"Unit\": \"1000 SLC\", \"Value\": 2367327}, {\"Item_code_cpc\": \"21111.01i\", \"Item\": \"Meat of cattle with the bone, fresh or chilled (indigenous)\", \"Year\": 2019, \"Unit\": \"1000 SLC\", \"Value\": 2372862}, {\"Item_code_cpc\": \"21111.01i\", \"Item\": \"Meat of cattle with the bone, fresh or chilled (indigenous)\", \"Year\": 2020, \"Unit\": \"1000 SLC\", \"Value\": 2399026}, {\"Item_code_cpc\": \"21111.01i\", \"Item\": \"Meat of cattle with the bone, fresh or chilled (indigenous)\", \"Year\": 2016, \"Unit\": \"1000 SLC\", \"Value\": 2373778}, {\"Item_code_cpc\": \"21111.01i\", \"Item\": \"Meat of cattle with the bone, fresh or chilled (indigenous)\", \"Year\": 2017, \"Unit\": \"1000 SLC\", \"Value\": 2489159}, {\"Item_code_cpc\": \"21111.01i\", \"Item\": \"Meat of cattle with the bone, fresh or chilled (indigenous)\", \"Year\": 2018, \"Unit\": \"1000 SLC\", \"Value\": 2511509}, {\"Item_code_cpc\": \"21111.01i\", \"Item\": \"Meat of cattle with the bone, fresh or chilled (indigenous)\", \"Year\": 2019, \"Unit\": \"1000 SLC\", \"Value\": 2500455}, {\"Item_code_cpc\": \"21111.01i\", \"Item\": \"Meat of cattle with the bone, fresh or chilled (indigenous)\", \"Year\": 2020, \"Unit\": \"1000 SLC\", \"Value\": 2555241}, {\"Item_code_cpc\": \"21111.01i\", \"Item\": \"Meat of cattle with the bone, fresh or chilled (indigenous)\", \"Year\": 2016, \"Unit\": \"1000 US$\", \"Value\": 2589520}, {\"Item_code_cpc\": \"21111.01i\", \"Item\": \"Meat of cattle with the bone, fresh or chilled (indigenous)\", \"Year\": 2017, \"Unit\": \"1000 US$\", \"Value\": 2779623}, {\"Item_code_cpc\": \"21111.01i\", \"Item\": \"Meat of cattle with the bone, fresh or chilled (indigenous)\", \"Year\": 2018, \"Unit\": \"1000 US$\", \"Value\": 2795705}, {\"Item_code_cpc\": \"21111.01i\", \"Item\": \"Meat of cattle with the bone, fresh or chilled (indigenous)\", \"Year\": 2019, \"Unit\": \"1000 US$\", \"Value\": 2656358}, {\"Item_code_cpc\": \"21111.01i\", \"Item\": \"Meat of cattle with the bone, fresh or chilled (indigenous)\", \"Year\": 2020, \"Unit\": \"1000 US$\", \"Value\": 2740158}, {\"Item_code_cpc\": \"21111.01i\", \"Item\": \"Meat of cattle with the bone, fresh or chilled (indigenous)\", \"Year\": 2016, \"Unit\": \"1000 US$\", \"Value\": 2793772}, {\"Item_code_cpc\": \"21111.01i\", \"Item\": \"Meat of cattle with the bone, fresh or chilled (indigenous)\", \"Year\": 2017, \"Unit\": \"1000 US$\", \"Value\": 2929568}, {\"Item_code_cpc\": \"21111.01i\", \"Item\": \"Meat of cattle with the bone, fresh or chilled (indigenous)\", \"Year\": 2018, \"Unit\": \"1000 US$\", \"Value\": 2955872}, {\"Item_code_cpc\": \"21111.01i\", \"Item\": \"Meat of cattle with the bone, fresh or chilled (indigenous)\", \"Year\": 2019, \"Unit\": \"1000 US$\", \"Value\": 2942862}, {\"Item_code_cpc\": \"21111.01i\", \"Item\": \"Meat of cattle with the bone, fresh or chilled (indigenous)\", \"Year\": 2020, \"Unit\": \"1000 US$\", \"Value\": 3007341}, {\"Item_code_cpc\": \"21121\", \"Item\": \"Meat of chickens, fresh or chilled\", \"Year\": 2016, \"Unit\": \"1000 SLC\", \"Value\": 113143}, {\"Item_code_cpc\": \"21121\", \"Item\": \"Meat of chickens, fresh or chilled\", \"Year\": 2017, \"Unit\": \"1000 SLC\", \"Value\": 159886}, {\"Item_code_cpc\": \"21121\", \"Item\": \"Meat of chickens, fresh or chilled\", \"Year\": 2018, \"Unit\": \"1000 SLC\", \"Value\": 165070}, {\"Item_code_cpc\": \"21121\", \"Item\": \"Meat of chickens, fresh or chilled\", \"Year\": 2019, \"Unit\": \"1000 SLC\", \"Value\": 184100}, {\"Item_code_cpc\": \"21121\", \"Item\": \"Meat of chickens, fresh or chilled\", \"Year\": 2020, \"Unit\": \"1000 SLC\", \"Value\": 206948}, {\"Item_code_cpc\": \"21121\", \"Item\": \"Meat of chickens, fresh or chilled\", \"Year\": 2016, \"Unit\": \"1000 SLC\", \"Value\": 114180}, {\"Item_code_cpc\": \"21121\", \"Item\": \"Meat of chickens, fresh or chilled\", \"Year\": 2017, \"Unit\": \"1000 SLC\", \"Value\": 161789}, {\"Item_code_cpc\": \"21121\", \"Item\": \"Meat of chickens, fresh or chilled\", \"Year\": 2018, \"Unit\": \"1000 SLC\", \"Value\": 166548}, {\"Item_code_cpc\": \"21121\", \"Item\": \"Meat of chickens, fresh or chilled\", \"Year\": 2019, \"Unit\": \"1000 SLC\", \"Value\": 177985}, {\"Item_code_cpc\": \"21121\", \"Item\": \"Meat of chickens, fresh or chilled\", \"Year\": 2020, \"Unit\": \"1000 SLC\", \"Value\": 192047}, {\"Item_code_cpc\": \"21121\", \"Item\": \"Meat of chickens, fresh or chilled\", \"Year\": 2016, \"Unit\": \"1000 US$\", \"Value\": 125159}, {\"Item_code_cpc\": \"21121\", \"Item\": \"Meat of chickens, fresh or chilled\", \"Year\": 2017, \"Unit\": \"1000 US$\", \"Value\": 180621}, {\"Item_code_cpc\": \"21121\", \"Item\": \"Meat of chickens, fresh or chilled\", \"Year\": 2018, \"Unit\": \"1000 US$\", \"Value\": 194940}, {\"Item_code_cpc\": \"21121\", \"Item\": \"Meat of chickens, fresh or chilled\", \"Year\": 2019, \"Unit\": \"1000 US$\", \"Value\": 206095}, {\"Item_code_cpc\": \"21121\", \"Item\": \"Meat of chickens, fresh or chilled\", \"Year\": 2020, \"Unit\": \"1000 US$\", \"Value\": 236376}, {\"Item_code_cpc\": \"21121\", \"Item\": \"Meat of chickens, fresh or chilled\", \"Year\": 2016, \"Unit\": \"1000 US$\", \"Value\": 134918}, {\"Item_code_cpc\": \"21121\", \"Item\": \"Meat of chickens, fresh or chilled\", \"Year\": 2017, \"Unit\": \"1000 US$\", \"Value\": 191173}, {\"Item_code_cpc\": \"21121\", \"Item\": \"Meat of chickens, fresh or chilled\", \"Year\": 2018, \"Unit\": \"1000 US$\", \"Value\": 196796}, {\"Item_code_cpc\": \"21121\", \"Item\": \"Meat of chickens, fresh or chilled\", \"Year\": 2019, \"Unit\": \"1000 US$\", \"Value\": 210310}, {\"Item_code_cpc\": \"21121\", \"Item\": \"Meat of chickens, fresh or chilled\", \"Year\": 2020, \"Unit\": \"1000 US$\", \"Value\": 226926}, {\"Item_code_cpc\": \"21121i\", \"Item\": \"Meat of chickens, fresh or chilled (indigenous)\", \"Year\": 2016, \"Unit\": \"1000 Int. $\", \"Value\": 173799}, {\"Item_code_cpc\": \"21121i\", \"Item\": \"Meat of chickens, fresh or chilled (indigenous)\", \"Year\": 2017, \"Unit\": \"1000 Int. $\", \"Value\": 250181}, {\"Item_code_cpc\": \"21121i\", \"Item\": \"Meat of chickens, fresh or chilled (indigenous)\", \"Year\": 2018, \"Unit\": \"1000 Int. $\", \"Value\": 253511}, {\"Item_code_cpc\": \"21121i\", \"Item\": \"Meat of chickens, fresh or chilled (indigenous)\", \"Year\": 2019, \"Unit\": \"1000 Int. $\", \"Value\": 270919}, {\"Item_code_cpc\": \"21121i\", \"Item\": \"Meat of chickens, fresh or chilled (indigenous)\", \"Year\": 2020, \"Unit\": \"1000 Int. $\", \"Value\": 281846}, {\"Item_code_cpc\": \"21121i\", \"Item\": \"Meat of chickens, fresh or chilled (indigenous)\", \"Year\": 2016, \"Unit\": \"1000 SLC\", \"Value\": 113143}, {\"Item_code_cpc\": \"21121i\", \"Item\": \"Meat of chickens, fresh or chilled (indigenous)\", \"Year\": 2017, \"Unit\": \"1000 SLC\", \"Value\": 162427}, {\"Item_code_cpc\": \"21121i\", \"Item\": \"Meat of chickens, fresh or chilled (indigenous)\", \"Year\": 2018, \"Unit\": \"1000 SLC\", \"Value\": 165070}, {\"Item_code_cpc\": \"21121i\", \"Item\": \"Meat of chickens, fresh or chilled (indigenous)\", \"Year\": 2019, \"Unit\": \"1000 SLC\", \"Value\": 184100}, {\"Item_code_cpc\": \"21121i\", \"Item\": \"Meat of chickens, fresh or chilled (indigenous)\", \"Year\": 2020, \"Unit\": \"1000 SLC\", \"Value\": 199531}, {\"Item_code_cpc\": \"21121i\", \"Item\": \"Meat of chickens, fresh or chilled (indigenous)\", \"Year\": 2016, \"Unit\": \"1000 SLC\", \"Value\": 114180}, {\"Item_code_cpc\": \"21121i\", \"Item\": \"Meat of chickens, fresh or chilled (indigenous)\", \"Year\": 2017, \"Unit\": \"1000 SLC\", \"Value\": 164361}, {\"Item_code_cpc\": \"21121i\", \"Item\": \"Meat of chickens, fresh or chilled (indigenous)\", \"Year\": 2018, \"Unit\": \"1000 SLC\", \"Value\": 166548}, {\"Item_code_cpc\": \"21121i\", \"Item\": \"Meat of chickens, fresh or chilled (indigenous)\", \"Year\": 2019, \"Unit\": \"1000 SLC\", \"Value\": 177985}, {\"Item_code_cpc\": \"21121i\", \"Item\": \"Meat of chickens, fresh or chilled (indigenous)\", \"Year\": 2020, \"Unit\": \"1000 SLC\", \"Value\": 185163}, {\"Item_code_cpc\": \"21121i\", \"Item\": \"Meat of chickens, fresh or chilled (indigenous)\", \"Year\": 2016, \"Unit\": \"1000 US$\", \"Value\": 125159}, {\"Item_code_cpc\": \"21121i\", \"Item\": \"Meat of chickens, fresh or chilled (indigenous)\", \"Year\": 2017, \"Unit\": \"1000 US$\", \"Value\": 183492}, {\"Item_code_cpc\": \"21121i\", \"Item\": \"Meat of chickens, fresh or chilled (indigenous)\", \"Year\": 2018, \"Unit\": \"1000 US$\", \"Value\": 194940}, {\"Item_code_cpc\": \"21121i\", \"Item\": \"Meat of chickens, fresh or chilled (indigenous)\", \"Year\": 2019, \"Unit\": \"1000 US$\", \"Value\": 206095}, {\"Item_code_cpc\": \"21121i\", \"Item\": \"Meat of chickens, fresh or chilled (indigenous)\", \"Year\": 2020, \"Unit\": \"1000 US$\", \"Value\": 227904}, {\"Item_code_cpc\": \"21121i\", \"Item\": \"Meat of chickens, fresh or chilled (indigenous)\", \"Year\": 2016, \"Unit\": \"1000 US$\", \"Value\": 134918}, {\"Item_code_cpc\": \"21121i\", \"Item\": \"Meat of chickens, fresh or chilled (indigenous)\", \"Year\": 2017, \"Unit\": \"1000 US$\", \"Value\": 194211}, {\"Item_code_cpc\": \"21121i\", \"Item\": \"Meat of chickens, fresh or chilled (indigenous)\", \"Year\": 2018, \"Unit\": \"1000 US$\", \"Value\": 196796}, {\"Item_code_cpc\": \"21121i\", \"Item\": \"Meat of chickens, fresh or chilled (indigenous)\", \"Year\": 2019, \"Unit\": \"1000 US$\", \"Value\": 210310}, {\"Item_code_cpc\": \"21121i\", \"Item\": \"Meat of chickens, fresh or chilled (indigenous)\", \"Year\": 2020, \"Unit\": \"1000 US$\", \"Value\": 218792}, {\"Item_code_cpc\": \"21122i\", \"Item\": \"Meat of ducks, fresh or chilled (indigenous)\", \"Year\": 2016, \"Unit\": \"1000 Int. $\", \"Value\": 7953}, {\"Item_code_cpc\": \"21122i\", \"Item\": \"Meat of ducks, fresh or chilled (indigenous)\", \"Year\": 2017, \"Unit\": \"1000 Int. $\", \"Value\": 8006}, {\"Item_code_cpc\": \"21123i\", \"Item\": \"Meat of geese, fresh or chilled (indigenous)\", \"Year\": 2016, \"Unit\": \"1000 Int. $\", \"Value\": 3462}, {\"Item_code_cpc\": \"21123i\", \"Item\": \"Meat of geese, fresh or chilled (indigenous)\", \"Year\": 2017, \"Unit\": \"1000 Int. $\", \"Value\": 3476}, {\"Item_code_cpc\": \"21113.01\", \"Item\": \"Meat of pig with the bone, fresh or chilled\", \"Year\": 2016, \"Unit\": \"1000 SLC\", \"Value\": 759024}, {\"Item_code_cpc\": \"21113.01\", \"Item\": \"Meat of pig with the bone, fresh or chilled\", \"Year\": 2017, \"Unit\": \"1000 SLC\", \"Value\": 849567}, {\"Item_code_cpc\": \"21113.01\", \"Item\": \"Meat of pig with the bone, fresh or chilled\", \"Year\": 2018, \"Unit\": \"1000 SLC\", \"Value\": 765684}, {\"Item_code_cpc\": \"21113.01\", \"Item\": \"Meat of pig with the bone, fresh or chilled\", \"Year\": 2019, \"Unit\": \"1000 SLC\", \"Value\": 792673}, {\"Item_code_cpc\": \"21113.01\", \"Item\": \"Meat of pig with the bone, fresh or chilled\", \"Year\": 2020, \"Unit\": \"1000 SLC\", \"Value\": 880454}, {\"Item_code_cpc\": \"21113.01\", \"Item\": \"Meat of pig with the bone, fresh or chilled\", \"Year\": 2016, \"Unit\": \"1000 SLC\", \"Value\": 769443}, {\"Item_code_cpc\": \"21113.01\", \"Item\": \"Meat of pig with the bone, fresh or chilled\", \"Year\": 2017, \"Unit\": \"1000 SLC\", \"Value\": 800744}, {\"Item_code_cpc\": \"21113.01\", \"Item\": \"Meat of pig with the bone, fresh or chilled\", \"Year\": 2018, \"Unit\": \"1000 SLC\", \"Value\": 825430}, {\"Item_code_cpc\": \"21113.01\", \"Item\": \"Meat of pig with the bone, fresh or chilled\", \"Year\": 2019, \"Unit\": \"1000 SLC\", \"Value\": 828424}, {\"Item_code_cpc\": \"21113.01\", \"Item\": \"Meat of pig with the bone, fresh or chilled\", \"Year\": 2020, \"Unit\": \"1000 SLC\", \"Value\": 871319}, {\"Item_code_cpc\": \"21113.01\", \"Item\": \"Meat of pig with the bone, fresh or chilled\", \"Year\": 2016, \"Unit\": \"1000 US$\", \"Value\": 839628}, {\"Item_code_cpc\": \"21113.01\", \"Item\": \"Meat of pig with the bone, fresh or chilled\", \"Year\": 2017, \"Unit\": \"1000 US$\", \"Value\": 959746}, {\"Item_code_cpc\": \"21113.01\", \"Item\": \"Meat of pig with the bone, fresh or chilled\", \"Year\": 2018, \"Unit\": \"1000 US$\", \"Value\": 904238}, {\"Item_code_cpc\": \"21113.01\", \"Item\": \"Meat of pig with the bone, fresh or chilled\", \"Year\": 2019, \"Unit\": \"1000 US$\", \"Value\": 887378}, {\"Item_code_cpc\": \"21113.01\", \"Item\": \"Meat of pig with the bone, fresh or chilled\", \"Year\": 2020, \"Unit\": \"1000 US$\", \"Value\": 1005651}, {\"Item_code_cpc\": \"21113.01\", \"Item\": \"Meat of pig with the bone, fresh or chilled\", \"Year\": 2016, \"Unit\": \"1000 US$\", \"Value\": 911375}, {\"Item_code_cpc\": \"21113.01\", \"Item\": \"Meat of pig with the bone, fresh or chilled\", \"Year\": 2017, \"Unit\": \"1000 US$\", \"Value\": 948449}, {\"Item_code_cpc\": \"21113.01\", \"Item\": \"Meat of pig with the bone, fresh or chilled\", \"Year\": 2018, \"Unit\": \"1000 US$\", \"Value\": 977689}, {\"Item_code_cpc\": \"21113.01\", \"Item\": \"Meat of pig with the bone, fresh or chilled\", \"Year\": 2019, \"Unit\": \"1000 US$\", \"Value\": 981235}, {\"Item_code_cpc\": \"21113.01\", \"Item\": \"Meat of pig with the bone, fresh or chilled\", \"Year\": 2020, \"Unit\": \"1000 US$\", \"Value\": 1032042}, {\"Item_code_cpc\": \"21113.01i\", \"Item\": \"Meat of pig with the bone, fresh or chilled (indigenous)\", \"Year\": 2016, \"Unit\": \"1000 Int. $\", \"Value\": 560830}, {\"Item_code_cpc\": \"21113.01i\", \"Item\": \"Meat of pig with the bone, fresh or chilled (indigenous)\", \"Year\": 2017, \"Unit\": \"1000 Int. $\", \"Value\": 583644}, {\"Item_code_cpc\": \"21113.01i\", \"Item\": \"Meat of pig with the bone, fresh or chilled (indigenous)\", \"Year\": 2018, \"Unit\": \"1000 Int. $\", \"Value\": 601638}, {\"Item_code_cpc\": \"21113.01i\", \"Item\": \"Meat of pig with the bone, fresh or chilled (indigenous)\", \"Year\": 2019, \"Unit\": \"1000 Int. $\", \"Value\": 603820}, {\"Item_code_cpc\": \"21113.01i\", \"Item\": \"Meat of pig with the bone, fresh or chilled (indigenous)\", \"Year\": 2020, \"Unit\": \"1000 Int. $\", \"Value\": 635085}, {\"Item_code_cpc\": \"21113.01i\", \"Item\": \"Meat of pig with the bone, fresh or chilled (indigenous)\", \"Year\": 2016, \"Unit\": \"1000 SLC\", \"Value\": 759024}, {\"Item_code_cpc\": \"21113.01i\", \"Item\": \"Meat of pig with the bone, fresh or chilled (indigenous)\", \"Year\": 2017, \"Unit\": \"1000 SLC\", \"Value\": 849567}, {\"Item_code_cpc\": \"21113.01i\", \"Item\": \"Meat of pig with the bone, fresh or chilled (indigenous)\", \"Year\": 2018, \"Unit\": \"1000 SLC\", \"Value\": 765684}, {\"Item_code_cpc\": \"21113.01i\", \"Item\": \"Meat of pig with the bone, fresh or chilled (indigenous)\", \"Year\": 2019, \"Unit\": \"1000 SLC\", \"Value\": 792673}, {\"Item_code_cpc\": \"21113.01i\", \"Item\": \"Meat of pig with the bone, fresh or chilled (indigenous)\", \"Year\": 2020, \"Unit\": \"1000 SLC\", \"Value\": 880454}, {\"Item_code_cpc\": \"21113.01i\", \"Item\": \"Meat of pig with the bone, fresh or chilled (indigenous)\", \"Year\": 2016, \"Unit\": \"1000 SLC\", \"Value\": 769443}, {\"Item_code_cpc\": \"21113.01i\", \"Item\": \"Meat of pig with the bone, fresh or chilled (indigenous)\", \"Year\": 2017, \"Unit\": \"1000 SLC\", \"Value\": 800744}, {\"Item_code_cpc\": \"21113.01i\", \"Item\": \"Meat of pig with the bone, fresh or chilled (indigenous)\", \"Year\": 2018, \"Unit\": \"1000 SLC\", \"Value\": 825430}, {\"Item_code_cpc\": \"21113.01i\", \"Item\": \"Meat of pig with the bone, fresh or chilled (indigenous)\", \"Year\": 2019, \"Unit\": \"1000 SLC\", \"Value\": 828424}, {\"Item_code_cpc\": \"21113.01i\", \"Item\": \"Meat of pig with the bone, fresh or chilled (indigenous)\", \"Year\": 2020, \"Unit\": \"1000 SLC\", \"Value\": 871319}, {\"Item_code_cpc\": \"21113.01i\", \"Item\": \"Meat of pig with the bone, fresh or chilled (indigenous)\", \"Year\": 2016, \"Unit\": \"1000 US$\", \"Value\": 839628}, {\"Item_code_cpc\": \"21113.01i\", \"Item\": \"Meat of pig with the bone, fresh or chilled (indigenous)\", \"Year\": 2017, \"Unit\": \"1000 US$\", \"Value\": 959746}, {\"Item_code_cpc\": \"21113.01i\", \"Item\": \"Meat of pig with the bone, fresh or chilled (indigenous)\", \"Year\": 2018, \"Unit\": \"1000 US$\", \"Value\": 904238}, {\"Item_code_cpc\": \"21113.01i\", \"Item\": \"Meat of pig with the bone, fresh or chilled (indigenous)\", \"Year\": 2019, \"Unit\": \"1000 US$\", \"Value\": 887378}, {\"Item_code_cpc\": \"21113.01i\", \"Item\": \"Meat of pig with the bone, fresh or chilled (indigenous)\", \"Year\": 2020, \"Unit\": \"1000 US$\", \"Value\": 1005651}, {\"Item_code_cpc\": \"21113.01i\", \"Item\": \"Meat of pig with the bone, fresh or chilled (indigenous)\", \"Year\": 2016, \"Unit\": \"1000 US$\", \"Value\": 911375}, {\"Item_code_cpc\": \"21113.01i\", \"Item\": \"Meat of pig with the bone, fresh or chilled (indigenous)\", \"Year\": 2017, \"Unit\": \"1000 US$\", \"Value\": 948449}, {\"Item_code_cpc\": \"21113.01i\", \"Item\": \"Meat of pig with the bone, fresh or chilled (indigenous)\", \"Year\": 2018, \"Unit\": \"1000 US$\", \"Value\": 977689}, {\"Item_code_cpc\": \"21113.01i\", \"Item\": \"Meat of pig with the bone, fresh or chilled (indigenous)\", \"Year\": 2019, \"Unit\": \"1000 US$\", \"Value\": 981235}, {\"Item_code_cpc\": \"21113.01i\", \"Item\": \"Meat of pig with the bone, fresh or chilled (indigenous)\", \"Year\": 2020, \"Unit\": \"1000 US$\", \"Value\": 1032042}, {\"Item_code_cpc\": \"21115\", \"Item\": \"Meat of sheep, fresh or chilled\", \"Year\": 2016, \"Unit\": \"1000 SLC\", \"Value\": 253587}, {\"Item_code_cpc\": \"21115\", \"Item\": \"Meat of sheep, fresh or chilled\", \"Year\": 2017, \"Unit\": \"1000 SLC\", \"Value\": 278193}, {\"Item_code_cpc\": \"21115\", \"Item\": \"Meat of sheep, fresh or chilled\", \"Year\": 2018, \"Unit\": \"1000 SLC\", \"Value\": 299021}, {\"Item_code_cpc\": \"21115\", \"Item\": \"Meat of sheep, fresh or chilled\", \"Year\": 2019, \"Unit\": \"1000 SLC\", \"Value\": 310880}, {\"Item_code_cpc\": \"21115\", \"Item\": \"Meat of sheep, fresh or chilled\", \"Year\": 2020, \"Unit\": \"1000 SLC\", \"Value\": 334056}, {\"Item_code_cpc\": \"21115\", \"Item\": \"Meat of sheep, fresh or chilled\", \"Year\": 2016, \"Unit\": \"1000 SLC\", \"Value\": 252789}, {\"Item_code_cpc\": \"21115\", \"Item\": \"Meat of sheep, fresh or chilled\", \"Year\": 2017, \"Unit\": \"1000 SLC\", \"Value\": 278068}, {\"Item_code_cpc\": \"21115\", \"Item\": \"Meat of sheep, fresh or chilled\", \"Year\": 2018, \"Unit\": \"1000 SLC\", \"Value\": 283497}, {\"Item_code_cpc\": \"21115\", \"Item\": \"Meat of sheep, fresh or chilled\", \"Year\": 2019, \"Unit\": \"1000 SLC\", \"Value\": 273675}, {\"Item_code_cpc\": \"21115\", \"Item\": \"Meat of sheep, fresh or chilled\", \"Year\": 2020, \"Unit\": \"1000 SLC\", \"Value\": 274462}, {\"Item_code_cpc\": \"21115\", \"Item\": \"Meat of sheep, fresh or chilled\", \"Year\": 2016, \"Unit\": \"1000 US$\", \"Value\": 280517}, {\"Item_code_cpc\": \"21115\", \"Item\": \"Meat of sheep, fresh or chilled\", \"Year\": 2017, \"Unit\": \"1000 US$\", \"Value\": 314271}, {\"Item_code_cpc\": \"21115\", \"Item\": \"Meat of sheep, fresh or chilled\", \"Year\": 2018, \"Unit\": \"1000 US$\", \"Value\": 353131}, {\"Item_code_cpc\": \"21115\", \"Item\": \"Meat of sheep, fresh or chilled\", \"Year\": 2019, \"Unit\": \"1000 US$\", \"Value\": 348022}, {\"Item_code_cpc\": \"21115\", \"Item\": \"Meat of sheep, fresh or chilled\", \"Year\": 2020, \"Unit\": \"1000 US$\", \"Value\": 381557}, {\"Item_code_cpc\": \"21115\", \"Item\": \"Meat of sheep, fresh or chilled\", \"Year\": 2016, \"Unit\": \"1000 US$\", \"Value\": 298328}, {\"Item_code_cpc\": \"21115\", \"Item\": \"Meat of sheep, fresh or chilled\", \"Year\": 2017, \"Unit\": \"1000 US$\", \"Value\": 328161}, {\"Item_code_cpc\": \"21115\", \"Item\": \"Meat of sheep, fresh or chilled\", \"Year\": 2018, \"Unit\": \"1000 US$\", \"Value\": 334567}, {\"Item_code_cpc\": \"21115\", \"Item\": \"Meat of sheep, fresh or chilled\", \"Year\": 2019, \"Unit\": \"1000 US$\", \"Value\": 322977}, {\"Item_code_cpc\": \"21115\", \"Item\": \"Meat of sheep, fresh or chilled\", \"Year\": 2020, \"Unit\": \"1000 US$\", \"Value\": 323906}, {\"Item_code_cpc\": \"21115i\", \"Item\": \"Meat of sheep, fresh or chilled (indigenous)\", \"Year\": 2016, \"Unit\": \"1000 Int. $\", \"Value\": 284206}, {\"Item_code_cpc\": \"21115i\", \"Item\": \"Meat of sheep, fresh or chilled (indigenous)\", \"Year\": 2017, \"Unit\": \"1000 Int. $\", \"Value\": 313048}, {\"Item_code_cpc\": \"21115i\", \"Item\": \"Meat of sheep, fresh or chilled (indigenous)\", \"Year\": 2018, \"Unit\": \"1000 Int. $\", \"Value\": 318838}, {\"Item_code_cpc\": \"21115i\", \"Item\": \"Meat of sheep, fresh or chilled (indigenous)\", \"Year\": 2019, \"Unit\": \"1000 Int. $\", \"Value\": 306945}, {\"Item_code_cpc\": \"21115i\", \"Item\": \"Meat of sheep, fresh or chilled (indigenous)\", \"Year\": 2020, \"Unit\": \"1000 Int. $\", \"Value\": 274782}, {\"Item_code_cpc\": \"21115i\", \"Item\": \"Meat of sheep, fresh or chilled (indigenous)\", \"Year\": 2016, \"Unit\": \"1000 SLC\", \"Value\": 253246}, {\"Item_code_cpc\": \"21115i\", \"Item\": \"Meat of sheep, fresh or chilled (indigenous)\", \"Year\": 2017, \"Unit\": \"1000 SLC\", \"Value\": 278193}, {\"Item_code_cpc\": \"21115i\", \"Item\": \"Meat of sheep, fresh or chilled (indigenous)\", \"Year\": 2018, \"Unit\": \"1000 SLC\", \"Value\": 298720}, {\"Item_code_cpc\": \"21115i\", \"Item\": \"Meat of sheep, fresh or chilled (indigenous)\", \"Year\": 2019, \"Unit\": \"1000 SLC\", \"Value\": 309712}, {\"Item_code_cpc\": \"21115i\", \"Item\": \"Meat of sheep, fresh or chilled (indigenous)\", \"Year\": 2020, \"Unit\": \"1000 SLC\", \"Value\": 297074}, {\"Item_code_cpc\": \"21115i\", \"Item\": \"Meat of sheep, fresh or chilled (indigenous)\", \"Year\": 2016, \"Unit\": \"1000 SLC\", \"Value\": 252449}, {\"Item_code_cpc\": \"21115i\", \"Item\": \"Meat of sheep, fresh or chilled (indigenous)\", \"Year\": 2017, \"Unit\": \"1000 SLC\", \"Value\": 278068}, {\"Item_code_cpc\": \"21115i\", \"Item\": \"Meat of sheep, fresh or chilled (indigenous)\", \"Year\": 2018, \"Unit\": \"1000 SLC\", \"Value\": 283211}, {\"Item_code_cpc\": \"21115i\", \"Item\": \"Meat of sheep, fresh or chilled (indigenous)\", \"Year\": 2019, \"Unit\": \"1000 SLC\", \"Value\": 272647}, {\"Item_code_cpc\": \"21115i\", \"Item\": \"Meat of sheep, fresh or chilled (indigenous)\", \"Year\": 2020, \"Unit\": \"1000 SLC\", \"Value\": 244078}, {\"Item_code_cpc\": \"21115i\", \"Item\": \"Meat of sheep, fresh or chilled (indigenous)\", \"Year\": 2016, \"Unit\": \"1000 US$\", \"Value\": 280140}, {\"Item_code_cpc\": \"21115i\", \"Item\": \"Meat of sheep, fresh or chilled (indigenous)\", \"Year\": 2017, \"Unit\": \"1000 US$\", \"Value\": 314271}, {\"Item_code_cpc\": \"21115i\", \"Item\": \"Meat of sheep, fresh or chilled (indigenous)\", \"Year\": 2018, \"Unit\": \"1000 US$\", \"Value\": 352775}, {\"Item_code_cpc\": \"21115i\", \"Item\": \"Meat of sheep, fresh or chilled (indigenous)\", \"Year\": 2019, \"Unit\": \"1000 US$\", \"Value\": 346715}, {\"Item_code_cpc\": \"21115i\", \"Item\": \"Meat of sheep, fresh or chilled (indigenous)\", \"Year\": 2020, \"Unit\": \"1000 US$\", \"Value\": 339317}, {\"Item_code_cpc\": \"21115i\", \"Item\": \"Meat of sheep, fresh or chilled (indigenous)\", \"Year\": 2016, \"Unit\": \"1000 US$\", \"Value\": 297927}, {\"Item_code_cpc\": \"21115i\", \"Item\": \"Meat of sheep, fresh or chilled (indigenous)\", \"Year\": 2017, \"Unit\": \"1000 US$\", \"Value\": 328161}, {\"Item_code_cpc\": \"21115i\", \"Item\": \"Meat of sheep, fresh or chilled (indigenous)\", \"Year\": 2018, \"Unit\": \"1000 US$\", \"Value\": 334230}, {\"Item_code_cpc\": \"21115i\", \"Item\": \"Meat of sheep, fresh or chilled (indigenous)\", \"Year\": 2019, \"Unit\": \"1000 US$\", \"Value\": 321764}, {\"Item_code_cpc\": \"21115i\", \"Item\": \"Meat of sheep, fresh or chilled (indigenous)\", \"Year\": 2020, \"Unit\": \"1000 US$\", \"Value\": 288048}, {\"Item_code_cpc\": \"21124i\", \"Item\": \"Meat of turkeys, fresh or chilled (indigenous)\", \"Year\": 2016, \"Unit\": \"1000 Int. $\", \"Value\": 57678}, {\"Item_code_cpc\": \"21124i\", \"Item\": \"Meat of turkeys, fresh or chilled (indigenous)\", \"Year\": 2017, \"Unit\": \"1000 Int. $\", \"Value\": 5774}, {\"Item_code_cpc\": \"21124i\", \"Item\": \"Meat of turkeys, fresh or chilled (indigenous)\", \"Year\": 2018, \"Unit\": \"1000 Int. $\", \"Value\": 19309}, {\"Item_code_cpc\": \"21124i\", \"Item\": \"Meat of turkeys, fresh or chilled (indigenous)\", \"Year\": 2019, \"Unit\": \"1000 Int. $\", \"Value\": 16416}, {\"Item_code_cpc\": \"21124i\", \"Item\": \"Meat of turkeys, fresh or chilled (indigenous)\", \"Year\": 2020, \"Unit\": \"1000 Int. $\", \"Value\": 19897}, {\"Item_code_cpc\": \"01270\", \"Item\": \"Mushrooms and truffles\", \"Year\": 2016, \"Unit\": \"1000 Int. $\", \"Value\": 75745}, {\"Item_code_cpc\": \"01270\", \"Item\": \"Mushrooms and truffles\", \"Year\": 2017, \"Unit\": \"1000 Int. $\", \"Value\": 72001}, {\"Item_code_cpc\": \"01270\", \"Item\": \"Mushrooms and truffles\", \"Year\": 2018, \"Unit\": \"1000 Int. $\", \"Value\": 70670}, {\"Item_code_cpc\": \"01270\", \"Item\": \"Mushrooms and truffles\", \"Year\": 2019, \"Unit\": \"1000 Int. $\", \"Value\": 73894}, {\"Item_code_cpc\": \"01270\", \"Item\": \"Mushrooms and truffles\", \"Year\": 2020, \"Unit\": \"1000 Int. $\", \"Value\": 74944}, {\"Item_code_cpc\": \"01270\", \"Item\": \"Mushrooms and truffles\", \"Year\": 2016, \"Unit\": \"1000 SLC\", \"Value\": 130200}, {\"Item_code_cpc\": \"01270\", \"Item\": \"Mushrooms and truffles\", \"Year\": 2017, \"Unit\": \"1000 SLC\", \"Value\": 120437}, {\"Item_code_cpc\": \"01270\", \"Item\": \"Mushrooms and truffles\", \"Year\": 2018, \"Unit\": \"1000 SLC\", \"Value\": 118211}, {\"Item_code_cpc\": \"01270\", \"Item\": \"Mushrooms and truffles\", \"Year\": 2019, \"Unit\": \"1000 SLC\", \"Value\": 122239}, {\"Item_code_cpc\": \"01270\", \"Item\": \"Mushrooms and truffles\", \"Year\": 2020, \"Unit\": \"1000 SLC\", \"Value\": 121205}, {\"Item_code_cpc\": \"01270\", \"Item\": \"Mushrooms and truffles\", \"Year\": 2016, \"Unit\": \"1000 SLC\", \"Value\": 126933}, {\"Item_code_cpc\": \"01270\", \"Item\": \"Mushrooms and truffles\", \"Year\": 2017, \"Unit\": \"1000 SLC\", \"Value\": 120659}, {\"Item_code_cpc\": \"01270\", \"Item\": \"Mushrooms and truffles\", \"Year\": 2018, \"Unit\": \"1000 SLC\", \"Value\": 118429}, {\"Item_code_cpc\": \"01270\", \"Item\": \"Mushrooms and truffles\", \"Year\": 2019, \"Unit\": \"1000 SLC\", \"Value\": 123833}, {\"Item_code_cpc\": \"01270\", \"Item\": \"Mushrooms and truffles\", \"Year\": 2020, \"Unit\": \"1000 SLC\", \"Value\": 125591}, {\"Item_code_cpc\": \"01270\", \"Item\": \"Mushrooms and truffles\", \"Year\": 2016, \"Unit\": \"1000 US$\", \"Value\": 144027}, {\"Item_code_cpc\": \"01270\", \"Item\": \"Mushrooms and truffles\", \"Year\": 2017, \"Unit\": \"1000 US$\", \"Value\": 136057}, {\"Item_code_cpc\": \"01270\", \"Item\": \"Mushrooms and truffles\", \"Year\": 2018, \"Unit\": \"1000 US$\", \"Value\": 139602}, {\"Item_code_cpc\": \"01270\", \"Item\": \"Mushrooms and truffles\", \"Year\": 2019, \"Unit\": \"1000 US$\", \"Value\": 136844}, {\"Item_code_cpc\": \"01270\", \"Item\": \"Mushrooms and truffles\", \"Year\": 2020, \"Unit\": \"1000 US$\", \"Value\": 138440}, {\"Item_code_cpc\": \"01270\", \"Item\": \"Mushrooms and truffles\", \"Year\": 2016, \"Unit\": \"1000 US$\", \"Value\": 149744}, {\"Item_code_cpc\": \"01270\", \"Item\": \"Mushrooms and truffles\", \"Year\": 2017, \"Unit\": \"1000 US$\", \"Value\": 142343}, {\"Item_code_cpc\": \"01270\", \"Item\": \"Mushrooms and truffles\", \"Year\": 2018, \"Unit\": \"1000 US$\", \"Value\": 139711}, {\"Item_code_cpc\": \"01270\", \"Item\": \"Mushrooms and truffles\", \"Year\": 2019, \"Unit\": \"1000 US$\", \"Value\": 146086}, {\"Item_code_cpc\": \"01270\", \"Item\": \"Mushrooms and truffles\", \"Year\": 2020, \"Unit\": \"1000 US$\", \"Value\": 148161}, {\"Item_code_cpc\": \"02910\", \"Item\": \"Natural honey\", \"Year\": 2016, \"Unit\": \"1000 Int. $\", \"Value\": 954}, {\"Item_code_cpc\": \"02910\", \"Item\": \"Natural honey\", \"Year\": 2017, \"Unit\": \"1000 Int. $\", \"Value\": 965}, {\"Item_code_cpc\": \"0117\", \"Item\": \"Oats\", \"Year\": 2016, \"Unit\": \"1000 Int. $\", \"Value\": 30720}, {\"Item_code_cpc\": \"0117\", \"Item\": \"Oats\", \"Year\": 2017, \"Unit\": \"1000 Int. $\", \"Value\": 34365}, {\"Item_code_cpc\": \"0117\", \"Item\": \"Oats\", \"Year\": 2018, \"Unit\": \"1000 Int. $\", \"Value\": 19753}, {\"Item_code_cpc\": \"0117\", \"Item\": \"Oats\", \"Year\": 2019, \"Unit\": \"1000 Int. $\", \"Value\": 32351}, {\"Item_code_cpc\": \"0117\", \"Item\": \"Oats\", \"Year\": 2020, \"Unit\": \"1000 Int. $\", \"Value\": 30211}, {\"Item_code_cpc\": \"0117\", \"Item\": \"Oats\", \"Year\": 2016, \"Unit\": \"1000 SLC\", \"Value\": 23508}, {\"Item_code_cpc\": \"0117\", \"Item\": \"Oats\", \"Year\": 2017, \"Unit\": \"1000 SLC\", \"Value\": 27497}, {\"Item_code_cpc\": \"0117\", \"Item\": \"Oats\", \"Year\": 2018, \"Unit\": \"1000 SLC\", \"Value\": 24096}, {\"Item_code_cpc\": \"0117\", \"Item\": \"Oats\", \"Year\": 2019, \"Unit\": \"1000 SLC\", \"Value\": 27459}, {\"Item_code_cpc\": \"0117\", \"Item\": \"Oats\", \"Year\": 2020, \"Unit\": \"1000 SLC\", \"Value\": 26300}, {\"Item_code_cpc\": \"0117\", \"Item\": \"Oats\", \"Year\": 2016, \"Unit\": \"1000 SLC\", \"Value\": 26875}, {\"Item_code_cpc\": \"0117\", \"Item\": \"Oats\", \"Year\": 2017, \"Unit\": \"1000 SLC\", \"Value\": 30064}, {\"Item_code_cpc\": \"0117\", \"Item\": \"Oats\", \"Year\": 2018, \"Unit\": \"1000 SLC\", \"Value\": 17280}, {\"Item_code_cpc\": \"0117\", \"Item\": \"Oats\", \"Year\": 2019, \"Unit\": \"1000 SLC\", \"Value\": 28302}, {\"Item_code_cpc\": \"0117\", \"Item\": \"Oats\", \"Year\": 2020, \"Unit\": \"1000 SLC\", \"Value\": 26429}, {\"Item_code_cpc\": \"0117\", \"Item\": \"Oats\", \"Year\": 2016, \"Unit\": \"1000 US$\", \"Value\": 26005}, {\"Item_code_cpc\": \"0117\", \"Item\": \"Oats\", \"Year\": 2017, \"Unit\": \"1000 US$\", \"Value\": 31063}, {\"Item_code_cpc\": \"0117\", \"Item\": \"Oats\", \"Year\": 2018, \"Unit\": \"1000 US$\", \"Value\": 28457}, {\"Item_code_cpc\": \"0117\", \"Item\": \"Oats\", \"Year\": 2019, \"Unit\": \"1000 US$\", \"Value\": 30739}, {\"Item_code_cpc\": \"0117\", \"Item\": \"Oats\", \"Year\": 2020, \"Unit\": \"1000 US$\", \"Value\": 30040}, {\"Item_code_cpc\": \"0117\", \"Item\": \"Oats\", \"Year\": 2016, \"Unit\": \"1000 US$\", \"Value\": 31744}, {\"Item_code_cpc\": \"0117\", \"Item\": \"Oats\", \"Year\": 2017, \"Unit\": \"1000 US$\", \"Value\": 35510}, {\"Item_code_cpc\": \"0117\", \"Item\": \"Oats\", \"Year\": 2018, \"Unit\": \"1000 US$\", \"Value\": 20411}, {\"Item_code_cpc\": \"0117\", \"Item\": \"Oats\", \"Year\": 2019, \"Unit\": \"1000 US$\", \"Value\": 33429}, {\"Item_code_cpc\": \"0117\", \"Item\": \"Oats\", \"Year\": 2020, \"Unit\": \"1000 US$\", \"Value\": 31217}, {\"Item_code_cpc\": \"01253.02\", \"Item\": \"Onions and shallots, dry (excluding dehydrated)\", \"Year\": 2016, \"Unit\": \"1000 Int. $\", \"Value\": 2499}, {\"Item_code_cpc\": \"01253.02\", \"Item\": \"Onions and shallots, dry (excluding dehydrated)\", \"Year\": 2017, \"Unit\": \"1000 Int. $\", \"Value\": 2432}, {\"Item_code_cpc\": \"01253.02\", \"Item\": \"Onions and shallots, dry (excluding dehydrated)\", \"Year\": 2018, \"Unit\": \"1000 Int. $\", \"Value\": 1745}, {\"Item_code_cpc\": \"01253.02\", \"Item\": \"Onions and shallots, dry (excluding dehydrated)\", \"Year\": 2019, \"Unit\": \"1000 Int. $\", \"Value\": 4285}, {\"Item_code_cpc\": \"01253.02\", \"Item\": \"Onions and shallots, dry (excluding dehydrated)\", \"Year\": 2020, \"Unit\": \"1000 Int. $\", \"Value\": 4893}, {\"Item_code_cpc\": \"01253.02\", \"Item\": \"Onions and shallots, dry (excluding dehydrated)\", \"Year\": 2016, \"Unit\": \"1000 SLC\", \"Value\": 5634}, {\"Item_code_cpc\": \"01253.02\", \"Item\": \"Onions and shallots, dry (excluding dehydrated)\", \"Year\": 2017, \"Unit\": \"1000 SLC\", \"Value\": 5484}, {\"Item_code_cpc\": \"01253.02\", \"Item\": \"Onions and shallots, dry (excluding dehydrated)\", \"Year\": 2018, \"Unit\": \"1000 SLC\", \"Value\": 1173}, {\"Item_code_cpc\": \"01253.02\", \"Item\": \"Onions and shallots, dry (excluding dehydrated)\", \"Year\": 2019, \"Unit\": \"1000 SLC\", \"Value\": 3859}, {\"Item_code_cpc\": \"01253.02\", \"Item\": \"Onions and shallots, dry (excluding dehydrated)\", \"Year\": 2020, \"Unit\": \"1000 SLC\", \"Value\": 3290}, {\"Item_code_cpc\": \"01253.02\", \"Item\": \"Onions and shallots, dry (excluding dehydrated)\", \"Year\": 2016, \"Unit\": \"1000 SLC\", \"Value\": 5567}, {\"Item_code_cpc\": \"01253.02\", \"Item\": \"Onions and shallots, dry (excluding dehydrated)\", \"Year\": 2017, \"Unit\": \"1000 SLC\", \"Value\": 5418}, {\"Item_code_cpc\": \"01253.02\", \"Item\": \"Onions and shallots, dry (excluding dehydrated)\", \"Year\": 2018, \"Unit\": \"1000 SLC\", \"Value\": 3887}, {\"Item_code_cpc\": \"01253.02\", \"Item\": \"Onions and shallots, dry (excluding dehydrated)\", \"Year\": 2019, \"Unit\": \"1000 SLC\", \"Value\": 9547}, {\"Item_code_cpc\": \"01253.02\", \"Item\": \"Onions and shallots, dry (excluding dehydrated)\", \"Year\": 2020, \"Unit\": \"1000 SLC\", \"Value\": 10901}, {\"Item_code_cpc\": \"01253.02\", \"Item\": \"Onions and shallots, dry (excluding dehydrated)\", \"Year\": 2016, \"Unit\": \"1000 US$\", \"Value\": 6232}, {\"Item_code_cpc\": \"01253.02\", \"Item\": \"Onions and shallots, dry (excluding dehydrated)\", \"Year\": 2017, \"Unit\": \"1000 US$\", \"Value\": 6195}, {\"Item_code_cpc\": \"01253.02\", \"Item\": \"Onions and shallots, dry (excluding dehydrated)\", \"Year\": 2018, \"Unit\": \"1000 US$\", \"Value\": 1385}, {\"Item_code_cpc\": \"01253.02\", \"Item\": \"Onions and shallots, dry (excluding dehydrated)\", \"Year\": 2019, \"Unit\": \"1000 US$\", \"Value\": 4320}, {\"Item_code_cpc\": \"01253.02\", \"Item\": \"Onions and shallots, dry (excluding dehydrated)\", \"Year\": 2020, \"Unit\": \"1000 US$\", \"Value\": 3758}, {\"Item_code_cpc\": \"01253.02\", \"Item\": \"Onions and shallots, dry (excluding dehydrated)\", \"Year\": 2016, \"Unit\": \"1000 US$\", \"Value\": 6592}, {\"Item_code_cpc\": \"01253.02\", \"Item\": \"Onions and shallots, dry (excluding dehydrated)\", \"Year\": 2017, \"Unit\": \"1000 US$\", \"Value\": 6416}, {\"Item_code_cpc\": \"01253.02\", \"Item\": \"Onions and shallots, dry (excluding dehydrated)\", \"Year\": 2018, \"Unit\": \"1000 US$\", \"Value\": 4603}, {\"Item_code_cpc\": \"01253.02\", \"Item\": \"Onions and shallots, dry (excluding dehydrated)\", \"Year\": 2019, \"Unit\": \"1000 US$\", \"Value\": 11305}, {\"Item_code_cpc\": \"01253.02\", \"Item\": \"Onions and shallots, dry (excluding dehydrated)\", \"Year\": 2020, \"Unit\": \"1000 US$\", \"Value\": 12909}, {\"Item_code_cpc\": \"01241.90\", \"Item\": \"Other beans, green\", \"Year\": 2016, \"Unit\": \"1000 Int. $\", \"Value\": 540}, {\"Item_code_cpc\": \"01241.90\", \"Item\": \"Other beans, green\", \"Year\": 2017, \"Unit\": \"1000 Int. $\", \"Value\": 539}, {\"Item_code_cpc\": \"01355.90\", \"Item\": \"Other berries and fruits of the genus vaccinium n.e.c.\", \"Year\": 2016, \"Unit\": \"1000 Int. $\", \"Value\": 312}, {\"Item_code_cpc\": \"01355.90\", \"Item\": \"Other berries and fruits of the genus vaccinium n.e.c.\", \"Year\": 2017, \"Unit\": \"1000 Int. $\", \"Value\": 318}, {\"Item_code_cpc\": \"01359.90\", \"Item\": \"Other fruits, n.e.c.\", \"Year\": 2016, \"Unit\": \"1000 Int. $\", \"Value\": 3776}, {\"Item_code_cpc\": \"01359.90\", \"Item\": \"Other fruits, n.e.c.\", \"Year\": 2017, \"Unit\": \"1000 Int. $\", \"Value\": 3817}, {\"Item_code_cpc\": \"21170.92\", \"Item\": \"Other meat n.e.c. (excluding mammals), fresh, chilled or frozen\", \"Year\": 2016, \"Unit\": \"1000 Int. $\", \"Value\": 4076}, {\"Item_code_cpc\": \"21170.92\", \"Item\": \"Other meat n.e.c. (excluding mammals), fresh, chilled or frozen\", \"Year\": 2017, \"Unit\": \"1000 Int. $\", \"Value\": 4098}, {\"Item_code_cpc\": \"01290.90\", \"Item\": \"Other vegetables, fresh n.e.c.\", \"Year\": 2016, \"Unit\": \"1000 Int. $\", \"Value\": 8478}, {\"Item_code_cpc\": \"01290.90\", \"Item\": \"Other vegetables, fresh n.e.c.\", \"Year\": 2017, \"Unit\": \"1000 Int. $\", \"Value\": 7877}, {\"Item_code_cpc\": \"01705\", \"Item\": \"Peas, dry\", \"Year\": 2016, \"Unit\": \"1000 Int. $\", \"Value\": 1154}, {\"Item_code_cpc\": \"01705\", \"Item\": \"Peas, dry\", \"Year\": 2017, \"Unit\": \"1000 Int. $\", \"Value\": 855}, {\"Item_code_cpc\": \"01705\", \"Item\": \"Peas, dry\", \"Year\": 2018, \"Unit\": \"1000 Int. $\", \"Value\": 550}, {\"Item_code_cpc\": \"01705\", \"Item\": \"Peas, dry\", \"Year\": 2019, \"Unit\": \"1000 Int. $\", \"Value\": 967}, {\"Item_code_cpc\": \"01705\", \"Item\": \"Peas, dry\", \"Year\": 2020, \"Unit\": \"1000 Int. $\", \"Value\": 1110}, {\"Item_code_cpc\": \"01242\", \"Item\": \"Peas, green\", \"Year\": 2016, \"Unit\": \"1000 Int. $\", \"Value\": 1150}, {\"Item_code_cpc\": \"01242\", \"Item\": \"Peas, green\", \"Year\": 2017, \"Unit\": \"1000 Int. $\", \"Value\": 1131}, {\"Item_code_cpc\": \"01510\", \"Item\": \"Potatoes\", \"Year\": 2016, \"Unit\": \"1000 Int. $\", \"Value\": 88095}, {\"Item_code_cpc\": \"01510\", \"Item\": \"Potatoes\", \"Year\": 2017, \"Unit\": \"1000 Int. $\", \"Value\": 103217}, {\"Item_code_cpc\": \"01510\", \"Item\": \"Potatoes\", \"Year\": 2018, \"Unit\": \"1000 Int. $\", \"Value\": 68326}, {\"Item_code_cpc\": \"01510\", \"Item\": \"Potatoes\", \"Year\": 2019, \"Unit\": \"1000 Int. $\", \"Value\": 95695}, {\"Item_code_cpc\": \"01510\", \"Item\": \"Potatoes\", \"Year\": 2020, \"Unit\": \"1000 Int. $\", \"Value\": 75118}, {\"Item_code_cpc\": \"01235\", \"Item\": \"Pumpkins, squash and gourds\", \"Year\": 2018, \"Unit\": \"1000 Int. $\", \"Value\": 118}, {\"Item_code_cpc\": \"01235\", \"Item\": \"Pumpkins, squash and gourds\", \"Year\": 2019, \"Unit\": \"1000 Int. $\", \"Value\": 267}, {\"Item_code_cpc\": \"01235\", \"Item\": \"Pumpkins, squash and gourds\", \"Year\": 2020, \"Unit\": \"1000 Int. $\", \"Value\": 290}, {\"Item_code_cpc\": \"01443\", \"Item\": \"Rape or colza seed\", \"Year\": 2016, \"Unit\": \"1000 Int. $\", \"Value\": 16033}, {\"Item_code_cpc\": \"01443\", \"Item\": \"Rape or colza seed\", \"Year\": 2017, \"Unit\": \"1000 Int. $\", \"Value\": 19617}, {\"Item_code_cpc\": \"01443\", \"Item\": \"Rape or colza seed\", \"Year\": 2018, \"Unit\": \"1000 Int. $\", \"Value\": 18939}, {\"Item_code_cpc\": \"01443\", \"Item\": \"Rape or colza seed\", \"Year\": 2019, \"Unit\": \"1000 Int. $\", \"Value\": 17627}, {\"Item_code_cpc\": \"01443\", \"Item\": \"Rape or colza seed\", \"Year\": 2020, \"Unit\": \"1000 Int. $\", \"Value\": 20749}, {\"Item_code_cpc\": \"01353.01\", \"Item\": \"Raspberries\", \"Year\": 2016, \"Unit\": \"1000 Int. $\", \"Value\": 1050}, {\"Item_code_cpc\": \"01353.01\", \"Item\": \"Raspberries\", \"Year\": 2017, \"Unit\": \"1000 Int. $\", \"Value\": 1085}, {\"Item_code_cpc\": \"01353.01\", \"Item\": \"Raspberries\", \"Year\": 2018, \"Unit\": \"1000 Int. $\", \"Value\": 954}, {\"Item_code_cpc\": \"01353.01\", \"Item\": \"Raspberries\", \"Year\": 2019, \"Unit\": \"1000 Int. $\", \"Value\": 1018}, {\"Item_code_cpc\": \"01353.01\", \"Item\": \"Raspberries\", \"Year\": 2020, \"Unit\": \"1000 Int. $\", \"Value\": 1018}, {\"Item_code_cpc\": \"02211\", \"Item\": \"Raw milk of cattle\", \"Year\": 2016, \"Unit\": \"1000 Int. $\", \"Value\": 2851233}, {\"Item_code_cpc\": \"02211\", \"Item\": \"Raw milk of cattle\", \"Year\": 2017, \"Unit\": \"1000 Int. $\", \"Value\": 3112048}, {\"Item_code_cpc\": \"02211\", \"Item\": \"Raw milk of cattle\", \"Year\": 2018, \"Unit\": \"1000 Int. $\", \"Value\": 3258987}, {\"Item_code_cpc\": \"02211\", \"Item\": \"Raw milk of cattle\", \"Year\": 2019, \"Unit\": \"1000 Int. $\", \"Value\": 3431115}, {\"Item_code_cpc\": \"02211\", \"Item\": \"Raw milk of cattle\", \"Year\": 2020, \"Unit\": \"1000 Int. $\", \"Value\": 3562869}, {\"Item_code_cpc\": \"02211\", \"Item\": \"Raw milk of cattle\", \"Year\": 2016, \"Unit\": \"1000 SLC\", \"Value\": 1721901}, {\"Item_code_cpc\": \"02211\", \"Item\": \"Raw milk of cattle\", \"Year\": 2017, \"Unit\": \"1000 SLC\", \"Value\": 2507726}, {\"Item_code_cpc\": \"02211\", \"Item\": \"Raw milk of cattle\", \"Year\": 2018, \"Unit\": \"1000 SLC\", \"Value\": 2654794}, {\"Item_code_cpc\": \"02211\", \"Item\": \"Raw milk of cattle\", \"Year\": 2019, \"Unit\": \"1000 SLC\", \"Value\": 2682056}, {\"Item_code_cpc\": \"02211\", \"Item\": \"Raw milk of cattle\", \"Year\": 2020, \"Unit\": \"1000 SLC\", \"Value\": 2821861}, {\"Item_code_cpc\": \"02211\", \"Item\": \"Raw milk of cattle\", \"Year\": 2016, \"Unit\": \"1000 SLC\", \"Value\": 1999704}, {\"Item_code_cpc\": \"02211\", \"Item\": \"Raw milk of cattle\", \"Year\": 2017, \"Unit\": \"1000 SLC\", \"Value\": 2182626}, {\"Item_code_cpc\": \"02211\", \"Item\": \"Raw milk of cattle\", \"Year\": 2018, \"Unit\": \"1000 SLC\", \"Value\": 2285681}, {\"Item_code_cpc\": \"02211\", \"Item\": \"Raw milk of cattle\", \"Year\": 2019, \"Unit\": \"1000 SLC\", \"Value\": 2406403}, {\"Item_code_cpc\": \"02211\", \"Item\": \"Raw milk of cattle\", \"Year\": 2020, \"Unit\": \"1000 SLC\", \"Value\": 2498808}, {\"Item_code_cpc\": \"02211\", \"Item\": \"Raw milk of cattle\", \"Year\": 2016, \"Unit\": \"1000 US$\", \"Value\": 1904758}, {\"Item_code_cpc\": \"02211\", \"Item\": \"Raw milk of cattle\", \"Year\": 2017, \"Unit\": \"1000 US$\", \"Value\": 2832949}, {\"Item_code_cpc\": \"02211\", \"Item\": \"Raw milk of cattle\", \"Year\": 2018, \"Unit\": \"1000 US$\", \"Value\": 3135191}, {\"Item_code_cpc\": \"02211\", \"Item\": \"Raw milk of cattle\", \"Year\": 2019, \"Unit\": \"1000 US$\", \"Value\": 3002494}, {\"Item_code_cpc\": \"02211\", \"Item\": \"Raw milk of cattle\", \"Year\": 2020, \"Unit\": \"1000 US$\", \"Value\": 3223118}, {\"Item_code_cpc\": \"02211\", \"Item\": \"Raw milk of cattle\", \"Year\": 2016, \"Unit\": \"1000 US$\", \"Value\": 2389660}, {\"Item_code_cpc\": \"02211\", \"Item\": \"Raw milk of cattle\", \"Year\": 2017, \"Unit\": \"1000 US$\", \"Value\": 2608252}, {\"Item_code_cpc\": \"02211\", \"Item\": \"Raw milk of cattle\", \"Year\": 2018, \"Unit\": \"1000 US$\", \"Value\": 2731404}, {\"Item_code_cpc\": \"02211\", \"Item\": \"Raw milk of cattle\", \"Year\": 2019, \"Unit\": \"1000 US$\", \"Value\": 2875667}, {\"Item_code_cpc\": \"02211\", \"Item\": \"Raw milk of cattle\", \"Year\": 2020, \"Unit\": \"1000 US$\", \"Value\": 2986092}, {\"Item_code_cpc\": \"0116\", \"Item\": \"Rye\", \"Year\": 2016, \"Unit\": \"1000 Int. $\", \"Value\": 168}, {\"Item_code_cpc\": \"0116\", \"Item\": \"Rye\", \"Year\": 2017, \"Unit\": \"1000 Int. $\", \"Value\": 170}, {\"Item_code_cpc\": \"02941\", \"Item\": \"Shorn wool, greasy, including fleece-washed shorn wool\", \"Year\": 2016, \"Unit\": \"1000 Int. $\", \"Value\": 55184}, {\"Item_code_cpc\": \"02941\", \"Item\": \"Shorn wool, greasy, including fleece-washed shorn wool\", \"Year\": 2017, \"Unit\": \"1000 Int. $\", \"Value\": 55592}, {\"Item_code_cpc\": \"02941\", \"Item\": \"Shorn wool, greasy, including fleece-washed shorn wool\", \"Year\": 2018, \"Unit\": \"1000 Int. $\", \"Value\": 56004}, {\"Item_code_cpc\": \"02941\", \"Item\": \"Shorn wool, greasy, including fleece-washed shorn wool\", \"Year\": 2019, \"Unit\": \"1000 Int. $\", \"Value\": 55839}, {\"Item_code_cpc\": \"02941\", \"Item\": \"Shorn wool, greasy, including fleece-washed shorn wool\", \"Year\": 2020, \"Unit\": \"1000 Int. $\", \"Value\": 55839}, {\"Item_code_cpc\": \"01215\", \"Item\": \"Spinach\", \"Year\": 2017, \"Unit\": \"1000 Int. $\", \"Value\": 855}, {\"Item_code_cpc\": \"01215\", \"Item\": \"Spinach\", \"Year\": 2018, \"Unit\": \"1000 Int. $\", \"Value\": 1402}, {\"Item_code_cpc\": \"01215\", \"Item\": \"Spinach\", \"Year\": 2019, \"Unit\": \"1000 Int. $\", \"Value\": 1524}, {\"Item_code_cpc\": \"01215\", \"Item\": \"Spinach\", \"Year\": 2020, \"Unit\": \"1000 Int. $\", \"Value\": 1524}, {\"Item_code_cpc\": \"01354\", \"Item\": \"Strawberries\", \"Year\": 2016, \"Unit\": \"1000 Int. $\", \"Value\": 10447}, {\"Item_code_cpc\": \"01354\", \"Item\": \"Strawberries\", \"Year\": 2017, \"Unit\": \"1000 Int. $\", \"Value\": 10738}, {\"Item_code_cpc\": \"01354\", \"Item\": \"Strawberries\", \"Year\": 2018, \"Unit\": \"1000 Int. $\", \"Value\": 9272}, {\"Item_code_cpc\": \"01354\", \"Item\": \"Strawberries\", \"Year\": 2019, \"Unit\": \"1000 Int. $\", \"Value\": 9778}, {\"Item_code_cpc\": \"01354\", \"Item\": \"Strawberries\", \"Year\": 2020, \"Unit\": \"1000 Int. $\", \"Value\": 10219}, {\"Item_code_cpc\": \"01354\", \"Item\": \"Strawberries\", \"Year\": 2016, \"Unit\": \"1000 SLC\", \"Value\": 7752}, {\"Item_code_cpc\": \"01354\", \"Item\": \"Strawberries\", \"Year\": 2017, \"Unit\": \"1000 SLC\", \"Value\": 8915}, {\"Item_code_cpc\": \"01354\", \"Item\": \"Strawberries\", \"Year\": 2018, \"Unit\": \"1000 SLC\", \"Value\": 7546}, {\"Item_code_cpc\": \"01354\", \"Item\": \"Strawberries\", \"Year\": 2019, \"Unit\": \"1000 SLC\", \"Value\": 6957}, {\"Item_code_cpc\": \"01354\", \"Item\": \"Strawberries\", \"Year\": 2020, \"Unit\": \"1000 SLC\", \"Value\": 6882}, {\"Item_code_cpc\": \"01354\", \"Item\": \"Strawberries\", \"Year\": 2016, \"Unit\": \"1000 SLC\", \"Value\": 8125}, {\"Item_code_cpc\": \"01354\", \"Item\": \"Strawberries\", \"Year\": 2017, \"Unit\": \"1000 SLC\", \"Value\": 8351}, {\"Item_code_cpc\": \"01354\", \"Item\": \"Strawberries\", \"Year\": 2018, \"Unit\": \"1000 SLC\", \"Value\": 7211}, {\"Item_code_cpc\": \"01354\", \"Item\": \"Strawberries\", \"Year\": 2019, \"Unit\": \"1000 SLC\", \"Value\": 7605}, {\"Item_code_cpc\": \"01354\", \"Item\": \"Strawberries\", \"Year\": 2020, \"Unit\": \"1000 SLC\", \"Value\": 7947}, {\"Item_code_cpc\": \"01354\", \"Item\": \"Strawberries\", \"Year\": 2016, \"Unit\": \"1000 US$\", \"Value\": 8576}, {\"Item_code_cpc\": \"01354\", \"Item\": \"Strawberries\", \"Year\": 2017, \"Unit\": \"1000 US$\", \"Value\": 10072}, {\"Item_code_cpc\": \"01354\", \"Item\": \"Strawberries\", \"Year\": 2018, \"Unit\": \"1000 US$\", \"Value\": 8911}, {\"Item_code_cpc\": \"01354\", \"Item\": \"Strawberries\", \"Year\": 2019, \"Unit\": \"1000 US$\", \"Value\": 7788}, {\"Item_code_cpc\": \"01354\", \"Item\": \"Strawberries\", \"Year\": 2020, \"Unit\": \"1000 US$\", \"Value\": 7860}, {\"Item_code_cpc\": \"01354\", \"Item\": \"Strawberries\", \"Year\": 2016, \"Unit\": \"1000 US$\", \"Value\": 9619}, {\"Item_code_cpc\": \"01354\", \"Item\": \"Strawberries\", \"Year\": 2017, \"Unit\": \"1000 US$\", \"Value\": 9886}, {\"Item_code_cpc\": \"01354\", \"Item\": \"Strawberries\", \"Year\": 2018, \"Unit\": \"1000 US$\", \"Value\": 8537}, {\"Item_code_cpc\": \"01354\", \"Item\": \"Strawberries\", \"Year\": 2019, \"Unit\": \"1000 US$\", \"Value\": 9002}, {\"Item_code_cpc\": \"01354\", \"Item\": \"Strawberries\", \"Year\": 2020, \"Unit\": \"1000 US$\", \"Value\": 9408}, {\"Item_code_cpc\": \"01801\", \"Item\": \"Sugar beet\", \"Year\": 2016, \"Unit\": \"1000 Int. $\", \"Value\": 3392}, {\"Item_code_cpc\": \"01801\", \"Item\": \"Sugar beet\", \"Year\": 2017, \"Unit\": \"1000 Int. $\", \"Value\": 3533}, {\"Item_code_cpc\": \"01801\", \"Item\": \"Sugar beet\", \"Year\": 2016, \"Unit\": \"1000 SLC\", \"Value\": 4736}, {\"Item_code_cpc\": \"01801\", \"Item\": \"Sugar beet\", \"Year\": 2017, \"Unit\": \"1000 SLC\", \"Value\": 5554}, {\"Item_code_cpc\": \"01801\", \"Item\": \"Sugar beet\", \"Year\": 2016, \"Unit\": \"1000 SLC\", \"Value\": 4981}, {\"Item_code_cpc\": \"01801\", \"Item\": \"Sugar beet\", \"Year\": 2017, \"Unit\": \"1000 SLC\", \"Value\": 5189}, {\"Item_code_cpc\": \"01801\", \"Item\": \"Sugar beet\", \"Year\": 2016, \"Unit\": \"1000 US$\", \"Value\": 5239}, {\"Item_code_cpc\": \"01801\", \"Item\": \"Sugar beet\", \"Year\": 2017, \"Unit\": \"1000 US$\", \"Value\": 6274}, {\"Item_code_cpc\": \"01801\", \"Item\": \"Sugar beet\", \"Year\": 2016, \"Unit\": \"1000 US$\", \"Value\": 5898}, {\"Item_code_cpc\": \"01801\", \"Item\": \"Sugar beet\", \"Year\": 2017, \"Unit\": \"1000 US$\", \"Value\": 6144}, {\"Item_code_cpc\": \"01234\", \"Item\": \"Tomatoes\", \"Year\": 2016, \"Unit\": \"1000 Int. $\", \"Value\": 1904}, {\"Item_code_cpc\": \"01234\", \"Item\": \"Tomatoes\", \"Year\": 2017, \"Unit\": \"1000 Int. $\", \"Value\": 1800}, {\"Item_code_cpc\": \"01234\", \"Item\": \"Tomatoes\", \"Year\": 2018, \"Unit\": \"1000 Int. $\", \"Value\": 1866}, {\"Item_code_cpc\": \"01234\", \"Item\": \"Tomatoes\", \"Year\": 2019, \"Unit\": \"1000 Int. $\", \"Value\": 1776}, {\"Item_code_cpc\": \"01234\", \"Item\": \"Tomatoes\", \"Year\": 2020, \"Unit\": \"1000 Int. $\", \"Value\": 1766}, {\"Item_code_cpc\": \"01234\", \"Item\": \"Tomatoes\", \"Year\": 2016, \"Unit\": \"1000 SLC\", \"Value\": 5600}, {\"Item_code_cpc\": \"01234\", \"Item\": \"Tomatoes\", \"Year\": 2017, \"Unit\": \"1000 SLC\", \"Value\": 5292}, {\"Item_code_cpc\": \"01234\", \"Item\": \"Tomatoes\", \"Year\": 2018, \"Unit\": \"1000 SLC\", \"Value\": 5488}, {\"Item_code_cpc\": \"01234\", \"Item\": \"Tomatoes\", \"Year\": 2019, \"Unit\": \"1000 SLC\", \"Value\": 5222}, {\"Item_code_cpc\": \"01234\", \"Item\": \"Tomatoes\", \"Year\": 2020, \"Unit\": \"1000 SLC\", \"Value\": 5194}, {\"Item_code_cpc\": \"01234\", \"Item\": \"Tomatoes\", \"Year\": 2016, \"Unit\": \"1000 SLC\", \"Value\": 5600}, {\"Item_code_cpc\": \"01234\", \"Item\": \"Tomatoes\", \"Year\": 2017, \"Unit\": \"1000 SLC\", \"Value\": 5292}, {\"Item_code_cpc\": \"01234\", \"Item\": \"Tomatoes\", \"Year\": 2018, \"Unit\": \"1000 SLC\", \"Value\": 5488}, {\"Item_code_cpc\": \"01234\", \"Item\": \"Tomatoes\", \"Year\": 2019, \"Unit\": \"1000 SLC\", \"Value\": 5222}, {\"Item_code_cpc\": \"01234\", \"Item\": \"Tomatoes\", \"Year\": 2020, \"Unit\": \"1000 SLC\", \"Value\": 5194}, {\"Item_code_cpc\": \"01234\", \"Item\": \"Tomatoes\", \"Year\": 2016, \"Unit\": \"1000 US$\", \"Value\": 6195}, {\"Item_code_cpc\": \"01234\", \"Item\": \"Tomatoes\", \"Year\": 2017, \"Unit\": \"1000 US$\", \"Value\": 5978}, {\"Item_code_cpc\": \"01234\", \"Item\": \"Tomatoes\", \"Year\": 2018, \"Unit\": \"1000 US$\", \"Value\": 6481}, {\"Item_code_cpc\": \"01234\", \"Item\": \"Tomatoes\", \"Year\": 2019, \"Unit\": \"1000 US$\", \"Value\": 5846}, {\"Item_code_cpc\": \"01234\", \"Item\": \"Tomatoes\", \"Year\": 2020, \"Unit\": \"1000 US$\", \"Value\": 5933}, {\"Item_code_cpc\": \"01234\", \"Item\": \"Tomatoes\", \"Year\": 2016, \"Unit\": \"1000 US$\", \"Value\": 6612}, {\"Item_code_cpc\": \"01234\", \"Item\": \"Tomatoes\", \"Year\": 2017, \"Unit\": \"1000 US$\", \"Value\": 6248}, {\"Item_code_cpc\": \"01234\", \"Item\": \"Tomatoes\", \"Year\": 2018, \"Unit\": \"1000 US$\", \"Value\": 6479}, {\"Item_code_cpc\": \"01234\", \"Item\": \"Tomatoes\", \"Year\": 2019, \"Unit\": \"1000 US$\", \"Value\": 6165}, {\"Item_code_cpc\": \"01234\", \"Item\": \"Tomatoes\", \"Year\": 2020, \"Unit\": \"1000 US$\", \"Value\": 6132}, {\"Item_code_cpc\": \"0111\", \"Item\": \"Wheat\", \"Year\": 2016, \"Unit\": \"1000 Int. $\", \"Value\": 153395}, {\"Item_code_cpc\": \"0111\", \"Item\": \"Wheat\", \"Year\": 2017, \"Unit\": \"1000 Int. $\", \"Value\": 161443}, {\"Item_code_cpc\": \"0111\", \"Item\": \"Wheat\", \"Year\": 2018, \"Unit\": \"1000 Int. $\", \"Value\": 114977}, {\"Item_code_cpc\": \"0111\", \"Item\": \"Wheat\", \"Year\": 2019, \"Unit\": \"1000 Int. $\", \"Value\": 141000}, {\"Item_code_cpc\": \"0111\", \"Item\": \"Wheat\", \"Year\": 2020, \"Unit\": \"1000 Int. $\", \"Value\": 86424}, {\"Item_code_cpc\": \"0111\", \"Item\": \"Wheat\", \"Year\": 2016, \"Unit\": \"1000 SLC\", \"Value\": 90510}, {\"Item_code_cpc\": \"0111\", \"Item\": \"Wheat\", \"Year\": 2017, \"Unit\": \"1000 SLC\", \"Value\": 101522}, {\"Item_code_cpc\": \"0111\", \"Item\": \"Wheat\", \"Year\": 2018, \"Unit\": \"1000 SLC\", \"Value\": 98795}, {\"Item_code_cpc\": \"0111\", \"Item\": \"Wheat\", \"Year\": 2019, \"Unit\": \"1000 SLC\", \"Value\": 88679}, {\"Item_code_cpc\": \"0111\", \"Item\": \"Wheat\", \"Year\": 2020, \"Unit\": \"1000 SLC\", \"Value\": 63058}, {\"Item_code_cpc\": \"0111\", \"Item\": \"Wheat\", \"Year\": 2016, \"Unit\": \"1000 SLC\", \"Value\": 100491}, {\"Item_code_cpc\": \"0111\", \"Item\": \"Wheat\", \"Year\": 2017, \"Unit\": \"1000 SLC\", \"Value\": 105763}, {\"Item_code_cpc\": \"0111\", \"Item\": \"Wheat\", \"Year\": 2018, \"Unit\": \"1000 SLC\", \"Value\": 75323}, {\"Item_code_cpc\": \"0111\", \"Item\": \"Wheat\", \"Year\": 2019, \"Unit\": \"1000 SLC\", \"Value\": 92371}, {\"Item_code_cpc\": \"0111\", \"Item\": \"Wheat\", \"Year\": 2020, \"Unit\": \"1000 SLC\", \"Value\": 56618}, {\"Item_code_cpc\": \"0111\", \"Item\": \"Wheat\", \"Year\": 2016, \"Unit\": \"1000 US$\", \"Value\": 100121}, {\"Item_code_cpc\": \"0111\", \"Item\": \"Wheat\", \"Year\": 2017, \"Unit\": \"1000 US$\", \"Value\": 114689}, {\"Item_code_cpc\": \"0111\", \"Item\": \"Wheat\", \"Year\": 2018, \"Unit\": \"1000 US$\", \"Value\": 116673}, {\"Item_code_cpc\": \"0111\", \"Item\": \"Wheat\", \"Year\": 2019, \"Unit\": \"1000 US$\", \"Value\": 99274}, {\"Item_code_cpc\": \"0111\", \"Item\": \"Wheat\", \"Year\": 2020, \"Unit\": \"1000 US$\", \"Value\": 72025}, {\"Item_code_cpc\": \"0111\", \"Item\": \"Wheat\", \"Year\": 2016, \"Unit\": \"1000 US$\", \"Value\": 120607}, {\"Item_code_cpc\": \"0111\", \"Item\": \"Wheat\", \"Year\": 2017, \"Unit\": \"1000 US$\", \"Value\": 126934}, {\"Item_code_cpc\": \"0111\", \"Item\": \"Wheat\", \"Year\": 2018, \"Unit\": \"1000 US$\", \"Value\": 90400}, {\"Item_code_cpc\": \"0111\", \"Item\": \"Wheat\", \"Year\": 2019, \"Unit\": \"1000 US$\", \"Value\": 110860}, {\"Item_code_cpc\": \"0111\", \"Item\": \"Wheat\", \"Year\": 2020, \"Unit\": \"1000 US$\", \"Value\": 67951}]}}, {\"mode\": \"vega-lite\"});\n",
       "</script>"
      ],
      "text/plain": [
       "alt.Chart(...)"
      ]
     },
     "execution_count": 19,
     "metadata": {},
     "output_type": "execute_result"
    }
   ],
   "source": [
    "select_year = alt.selection_single(\n",
    "    name='select', fields=['Year'], init={'Year': 2016},\n",
    "    bind=alt.binding_range(min=2016, max=2020, step=5)\n",
    ")\n",
    "alt.Chart(ir_prod_value_df).mark_point(filled=True).encode(\n",
    "    alt.X('Item_code_cpc', scale=alt.Scale(zero=False)),\n",
    "    alt.Y('Value', scale=alt.Scale(zero=False)),\n",
    "    \n",
    ").add_selection(select_year).transform_filter(select_year)"
   ]
  },
  {
   "cell_type": "code",
   "execution_count": 17,
   "id": "e5385e1c",
   "metadata": {},
   "outputs": [
    {
     "name": "stdout",
     "output_type": "stream",
     "text": [
      "\n",
      "##### Movement values Are : #####\n"
     ]
    },
    {
     "ename": "NameError",
     "evalue": "name 'df' is not defined",
     "output_type": "error",
     "traceback": [
      "\u001b[1;31m---------------------------------------------------------------------------\u001b[0m",
      "\u001b[1;31mNameError\u001b[0m                                 Traceback (most recent call last)",
      "Input \u001b[1;32mIn [17]\u001b[0m, in \u001b[0;36m<cell line: 6>\u001b[1;34m()\u001b[0m\n\u001b[0;32m      1\u001b[0m \u001b[38;5;66;03m#Quick Overview of different value contained in each column \u001b[39;00m\n\u001b[0;32m      2\u001b[0m \u001b[38;5;66;03m# Visualize different value we have for some attributes to understand how we can progress in our anlysis.\u001b[39;00m\n\u001b[0;32m      5\u001b[0m \u001b[38;5;28mprint\u001b[39m(\u001b[38;5;124m\"\u001b[39m\u001b[38;5;130;01m\\n\u001b[39;00m\u001b[38;5;124m##### Movement values Are : #####\u001b[39m\u001b[38;5;124m\"\u001b[39m)\n\u001b[1;32m----> 6\u001b[0m \u001b[38;5;28mprint\u001b[39m(pd\u001b[38;5;241m.\u001b[39munique(\u001b[43mdf\u001b[49m[\u001b[38;5;124m'\u001b[39m\u001b[38;5;124mMovement\u001b[39m\u001b[38;5;124m'\u001b[39m]))\n\u001b[0;32m      7\u001b[0m \u001b[38;5;28mprint\u001b[39m(\u001b[38;5;124m\"\u001b[39m\u001b[38;5;130;01m\\n\u001b[39;00m\u001b[38;5;124m##### Date values Are : #####\u001b[39m\u001b[38;5;124m\"\u001b[39m)\n\u001b[0;32m      8\u001b[0m \u001b[38;5;28mprint\u001b[39m(pd\u001b[38;5;241m.\u001b[39munique(df[\u001b[38;5;124m'\u001b[39m\u001b[38;5;124mDate\u001b[39m\u001b[38;5;124m'\u001b[39m]))\n",
      "\u001b[1;31mNameError\u001b[0m: name 'df' is not defined"
     ]
    }
   ],
   "source": [
    "#Quick Overview of different value contained in each column \n",
    "# Visualize different value we have for some attributes to understand how we can progress in our anlysis.\n",
    "\n",
    "\n",
    "print(\"\\n##### Movement values Are : #####\")\n",
    "print(pd.unique(df['Movement']))\n",
    "print(\"\\n##### Date values Are : #####\")\n",
    "print(pd.unique(df['Date']))\n",
    "print(\"\\n##### Time values Are : #####\")\n",
    "print(pd.unique(df['Time']))\n",
    "print(\"\\n##### Count_type values Are : #####\")\n",
    "print(pd.unique(df['Count_type']))\n",
    "print(\"\\n##### Arm_crossed values Are : #####\")\n",
    "print(pd.unique(df['Arm_crossed']))\n",
    "print(\"\\n##### Arm_location values Are : #####\")\n",
    "print(pd.unique(df['Arm_location']))\n"
   ]
  },
  {
   "cell_type": "code",
   "execution_count": null,
   "id": "10d67557",
   "metadata": {},
   "outputs": [],
   "source": [
    "#Plot production of Agriculture for the last 5 Years. \n",
    "#Display data per year.\n",
    "plt.rcParams[\"figure.dpi\"] = 164 #Customizing sizing of display\n",
    "ir_prod_count = ir_prod_value_df.groupby(\"Item_code_cpc\").sum()\n",
    "ir_prod_count.plot(kind=\"bar\", title=\"PRODUCTION\", color =\"r\", xlabel=\"ITEM_CPC_CODE\", ylabel=\"VALUE\")\n",
    "\n",
    "\n"
   ]
  }
 ],
 "metadata": {
  "kernelspec": {
   "display_name": "Python 3 (ipykernel)",
   "language": "python",
   "name": "python3"
  },
  "language_info": {
   "codemirror_mode": {
    "name": "ipython",
    "version": 3
   },
   "file_extension": ".py",
   "mimetype": "text/x-python",
   "name": "python",
   "nbconvert_exporter": "python",
   "pygments_lexer": "ipython3",
   "version": "3.9.12"
  }
 },
 "nbformat": 4,
 "nbformat_minor": 5
}
